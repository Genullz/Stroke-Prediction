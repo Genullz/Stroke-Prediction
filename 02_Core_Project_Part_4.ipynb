{
  "nbformat": 4,
  "nbformat_minor": 0,
  "metadata": {
    "colab": {
      "provenance": [],
      "collapsed_sections": [
        "xruRHH-0qo2P"
      ],
      "mount_file_id": "1aZfX8yTlfB7yl2UeGVL9K-7ar0SaaU13",
      "authorship_tag": "ABX9TyNcRTDMmad+EZWYrZTQVqfU",
      "include_colab_link": true
    },
    "kernelspec": {
      "name": "python3",
      "display_name": "Python 3"
    },
    "language_info": {
      "name": "python"
    }
  },
  "cells": [
    {
      "cell_type": "markdown",
      "metadata": {
        "id": "view-in-github",
        "colab_type": "text"
      },
      "source": [
        "<a href=\"https://colab.research.google.com/github/Genullz/Stroke-Prediction/blob/main/02_Core_Project_Part_4.ipynb\" target=\"_parent\"><img src=\"https://colab.research.google.com/assets/colab-badge.svg\" alt=\"Open In Colab\"/></a>"
      ]
    },
    {
      "cell_type": "markdown",
      "source": [],
      "metadata": {
        "id": "PhYk8x5_yGPz"
      }
    },
    {
      "cell_type": "code",
      "execution_count": 59,
      "metadata": {
        "colab": {
          "base_uri": "https://localhost:8080/"
        },
        "id": "pNj6gACKx06h",
        "outputId": "2edf71f0-a9c5-4665-b37d-bbbc350363e7"
      },
      "outputs": [
        {
          "output_type": "stream",
          "name": "stdout",
          "text": [
            "Drive already mounted at /content/drive; to attempt to forcibly remount, call drive.mount(\"/content/drive\", force_remount=True).\n"
          ]
        }
      ],
      "source": [
        "from google.colab import drive\n",
        "drive.mount('/content/drive')"
      ]
    },
    {
      "cell_type": "markdown",
      "source": [
        "Import the Packages"
      ],
      "metadata": {
        "id": "mCJbajP_2Mw1"
      }
    },
    {
      "cell_type": "code",
      "source": [
        "import matplotlib.pyplot as plt\n",
        "import pandas as pd\n",
        "import numpy as np\n",
        "from sklearn.model_selection import train_test_split, GridSearchCV\n",
        "from sklearn.compose import make_column_transformer, make_column_selector\n",
        "from sklearn.impute import SimpleImputer\n",
        "from sklearn.decomposition import PCA\n",
        "from sklearn.preprocessing import StandardScaler\n",
        "from sklearn.pipeline import make_pipeline\n",
        "from sklearn.preprocessing import OneHotEncoder\n",
        "from sklearn.tree import DecisionTreeClassifier\n",
        "from sklearn.metrics import accuracy_score, precision_score, recall_score, classification_report, ConfusionMatrixDisplay\n",
        "from sklearn.neighbors import KNeighborsClassifier\n",
        "import seaborn as sns\n",
        "from sklearn import set_config\n",
        "set_config(display='diagram')"
      ],
      "metadata": {
        "id": "YpkjW_pP1ws4"
      },
      "execution_count": 105,
      "outputs": []
    },
    {
      "cell_type": "markdown",
      "source": [
        "Load the Dataset"
      ],
      "metadata": {
        "id": "UKCniR5_2OQt"
      }
    },
    {
      "cell_type": "code",
      "source": [
        "path = ('/content/drive/MyDrive/Data Science Bootcamp/Core Project 02/healthcare-dataset-stroke-data.csv')\n",
        "df = pd.read_csv(path)\n",
        "df.head()"
      ],
      "metadata": {
        "colab": {
          "base_uri": "https://localhost:8080/",
          "height": 206
        },
        "id": "nE58tAjO2bzF",
        "outputId": "b0fcd5dd-1734-4878-eb82-836676bb9484"
      },
      "execution_count": 61,
      "outputs": [
        {
          "output_type": "execute_result",
          "data": {
            "text/plain": [
              "      id  gender   age  hypertension  heart_disease ever_married  \\\n",
              "0   9046    Male  67.0             0              1          Yes   \n",
              "1  51676  Female  61.0             0              0          Yes   \n",
              "2  31112    Male  80.0             0              1          Yes   \n",
              "3  60182  Female  49.0             0              0          Yes   \n",
              "4   1665  Female  79.0             1              0          Yes   \n",
              "\n",
              "       work_type Residence_type  avg_glucose_level   bmi   smoking_status  \\\n",
              "0        Private          Urban             228.69  36.6  formerly smoked   \n",
              "1  Self-employed          Rural             202.21   NaN     never smoked   \n",
              "2        Private          Rural             105.92  32.5     never smoked   \n",
              "3        Private          Urban             171.23  34.4           smokes   \n",
              "4  Self-employed          Rural             174.12  24.0     never smoked   \n",
              "\n",
              "   stroke  \n",
              "0       1  \n",
              "1       1  \n",
              "2       1  \n",
              "3       1  \n",
              "4       1  "
            ],
            "text/html": [
              "\n",
              "  <div id=\"df-56b2bdf1-053e-4410-a5d2-c3c627df270d\">\n",
              "    <div class=\"colab-df-container\">\n",
              "      <div>\n",
              "<style scoped>\n",
              "    .dataframe tbody tr th:only-of-type {\n",
              "        vertical-align: middle;\n",
              "    }\n",
              "\n",
              "    .dataframe tbody tr th {\n",
              "        vertical-align: top;\n",
              "    }\n",
              "\n",
              "    .dataframe thead th {\n",
              "        text-align: right;\n",
              "    }\n",
              "</style>\n",
              "<table border=\"1\" class=\"dataframe\">\n",
              "  <thead>\n",
              "    <tr style=\"text-align: right;\">\n",
              "      <th></th>\n",
              "      <th>id</th>\n",
              "      <th>gender</th>\n",
              "      <th>age</th>\n",
              "      <th>hypertension</th>\n",
              "      <th>heart_disease</th>\n",
              "      <th>ever_married</th>\n",
              "      <th>work_type</th>\n",
              "      <th>Residence_type</th>\n",
              "      <th>avg_glucose_level</th>\n",
              "      <th>bmi</th>\n",
              "      <th>smoking_status</th>\n",
              "      <th>stroke</th>\n",
              "    </tr>\n",
              "  </thead>\n",
              "  <tbody>\n",
              "    <tr>\n",
              "      <th>0</th>\n",
              "      <td>9046</td>\n",
              "      <td>Male</td>\n",
              "      <td>67.0</td>\n",
              "      <td>0</td>\n",
              "      <td>1</td>\n",
              "      <td>Yes</td>\n",
              "      <td>Private</td>\n",
              "      <td>Urban</td>\n",
              "      <td>228.69</td>\n",
              "      <td>36.6</td>\n",
              "      <td>formerly smoked</td>\n",
              "      <td>1</td>\n",
              "    </tr>\n",
              "    <tr>\n",
              "      <th>1</th>\n",
              "      <td>51676</td>\n",
              "      <td>Female</td>\n",
              "      <td>61.0</td>\n",
              "      <td>0</td>\n",
              "      <td>0</td>\n",
              "      <td>Yes</td>\n",
              "      <td>Self-employed</td>\n",
              "      <td>Rural</td>\n",
              "      <td>202.21</td>\n",
              "      <td>NaN</td>\n",
              "      <td>never smoked</td>\n",
              "      <td>1</td>\n",
              "    </tr>\n",
              "    <tr>\n",
              "      <th>2</th>\n",
              "      <td>31112</td>\n",
              "      <td>Male</td>\n",
              "      <td>80.0</td>\n",
              "      <td>0</td>\n",
              "      <td>1</td>\n",
              "      <td>Yes</td>\n",
              "      <td>Private</td>\n",
              "      <td>Rural</td>\n",
              "      <td>105.92</td>\n",
              "      <td>32.5</td>\n",
              "      <td>never smoked</td>\n",
              "      <td>1</td>\n",
              "    </tr>\n",
              "    <tr>\n",
              "      <th>3</th>\n",
              "      <td>60182</td>\n",
              "      <td>Female</td>\n",
              "      <td>49.0</td>\n",
              "      <td>0</td>\n",
              "      <td>0</td>\n",
              "      <td>Yes</td>\n",
              "      <td>Private</td>\n",
              "      <td>Urban</td>\n",
              "      <td>171.23</td>\n",
              "      <td>34.4</td>\n",
              "      <td>smokes</td>\n",
              "      <td>1</td>\n",
              "    </tr>\n",
              "    <tr>\n",
              "      <th>4</th>\n",
              "      <td>1665</td>\n",
              "      <td>Female</td>\n",
              "      <td>79.0</td>\n",
              "      <td>1</td>\n",
              "      <td>0</td>\n",
              "      <td>Yes</td>\n",
              "      <td>Self-employed</td>\n",
              "      <td>Rural</td>\n",
              "      <td>174.12</td>\n",
              "      <td>24.0</td>\n",
              "      <td>never smoked</td>\n",
              "      <td>1</td>\n",
              "    </tr>\n",
              "  </tbody>\n",
              "</table>\n",
              "</div>\n",
              "      <button class=\"colab-df-convert\" onclick=\"convertToInteractive('df-56b2bdf1-053e-4410-a5d2-c3c627df270d')\"\n",
              "              title=\"Convert this dataframe to an interactive table.\"\n",
              "              style=\"display:none;\">\n",
              "        \n",
              "  <svg xmlns=\"http://www.w3.org/2000/svg\" height=\"24px\"viewBox=\"0 0 24 24\"\n",
              "       width=\"24px\">\n",
              "    <path d=\"M0 0h24v24H0V0z\" fill=\"none\"/>\n",
              "    <path d=\"M18.56 5.44l.94 2.06.94-2.06 2.06-.94-2.06-.94-.94-2.06-.94 2.06-2.06.94zm-11 1L8.5 8.5l.94-2.06 2.06-.94-2.06-.94L8.5 2.5l-.94 2.06-2.06.94zm10 10l.94 2.06.94-2.06 2.06-.94-2.06-.94-.94-2.06-.94 2.06-2.06.94z\"/><path d=\"M17.41 7.96l-1.37-1.37c-.4-.4-.92-.59-1.43-.59-.52 0-1.04.2-1.43.59L10.3 9.45l-7.72 7.72c-.78.78-.78 2.05 0 2.83L4 21.41c.39.39.9.59 1.41.59.51 0 1.02-.2 1.41-.59l7.78-7.78 2.81-2.81c.8-.78.8-2.07 0-2.86zM5.41 20L4 18.59l7.72-7.72 1.47 1.35L5.41 20z\"/>\n",
              "  </svg>\n",
              "      </button>\n",
              "      \n",
              "  <style>\n",
              "    .colab-df-container {\n",
              "      display:flex;\n",
              "      flex-wrap:wrap;\n",
              "      gap: 12px;\n",
              "    }\n",
              "\n",
              "    .colab-df-convert {\n",
              "      background-color: #E8F0FE;\n",
              "      border: none;\n",
              "      border-radius: 50%;\n",
              "      cursor: pointer;\n",
              "      display: none;\n",
              "      fill: #1967D2;\n",
              "      height: 32px;\n",
              "      padding: 0 0 0 0;\n",
              "      width: 32px;\n",
              "    }\n",
              "\n",
              "    .colab-df-convert:hover {\n",
              "      background-color: #E2EBFA;\n",
              "      box-shadow: 0px 1px 2px rgba(60, 64, 67, 0.3), 0px 1px 3px 1px rgba(60, 64, 67, 0.15);\n",
              "      fill: #174EA6;\n",
              "    }\n",
              "\n",
              "    [theme=dark] .colab-df-convert {\n",
              "      background-color: #3B4455;\n",
              "      fill: #D2E3FC;\n",
              "    }\n",
              "\n",
              "    [theme=dark] .colab-df-convert:hover {\n",
              "      background-color: #434B5C;\n",
              "      box-shadow: 0px 1px 3px 1px rgba(0, 0, 0, 0.15);\n",
              "      filter: drop-shadow(0px 1px 2px rgba(0, 0, 0, 0.3));\n",
              "      fill: #FFFFFF;\n",
              "    }\n",
              "  </style>\n",
              "\n",
              "      <script>\n",
              "        const buttonEl =\n",
              "          document.querySelector('#df-56b2bdf1-053e-4410-a5d2-c3c627df270d button.colab-df-convert');\n",
              "        buttonEl.style.display =\n",
              "          google.colab.kernel.accessAllowed ? 'block' : 'none';\n",
              "\n",
              "        async function convertToInteractive(key) {\n",
              "          const element = document.querySelector('#df-56b2bdf1-053e-4410-a5d2-c3c627df270d');\n",
              "          const dataTable =\n",
              "            await google.colab.kernel.invokeFunction('convertToInteractive',\n",
              "                                                     [key], {});\n",
              "          if (!dataTable) return;\n",
              "\n",
              "          const docLinkHtml = 'Like what you see? Visit the ' +\n",
              "            '<a target=\"_blank\" href=https://colab.research.google.com/notebooks/data_table.ipynb>data table notebook</a>'\n",
              "            + ' to learn more about interactive tables.';\n",
              "          element.innerHTML = '';\n",
              "          dataTable['output_type'] = 'display_data';\n",
              "          await google.colab.output.renderOutput(dataTable, element);\n",
              "          const docLink = document.createElement('div');\n",
              "          docLink.innerHTML = docLinkHtml;\n",
              "          element.appendChild(docLink);\n",
              "        }\n",
              "      </script>\n",
              "    </div>\n",
              "  </div>\n",
              "  "
            ]
          },
          "metadata": {},
          "execution_count": 61
        }
      ]
    },
    {
      "cell_type": "code",
      "source": [
        "df.info()"
      ],
      "metadata": {
        "colab": {
          "base_uri": "https://localhost:8080/"
        },
        "id": "5-ll3Cw_2ZvU",
        "outputId": "c6112bcd-99d1-4c3e-b44d-f77152aa91a2"
      },
      "execution_count": 62,
      "outputs": [
        {
          "output_type": "stream",
          "name": "stdout",
          "text": [
            "<class 'pandas.core.frame.DataFrame'>\n",
            "RangeIndex: 5110 entries, 0 to 5109\n",
            "Data columns (total 12 columns):\n",
            " #   Column             Non-Null Count  Dtype  \n",
            "---  ------             --------------  -----  \n",
            " 0   id                 5110 non-null   int64  \n",
            " 1   gender             5110 non-null   object \n",
            " 2   age                5110 non-null   float64\n",
            " 3   hypertension       5110 non-null   int64  \n",
            " 4   heart_disease      5110 non-null   int64  \n",
            " 5   ever_married       5110 non-null   object \n",
            " 6   work_type          5110 non-null   object \n",
            " 7   Residence_type     5110 non-null   object \n",
            " 8   avg_glucose_level  5110 non-null   float64\n",
            " 9   bmi                4909 non-null   float64\n",
            " 10  smoking_status     5110 non-null   object \n",
            " 11  stroke             5110 non-null   int64  \n",
            "dtypes: float64(3), int64(4), object(5)\n",
            "memory usage: 479.2+ KB\n"
          ]
        }
      ]
    },
    {
      "cell_type": "code",
      "source": [
        "# check for duplicates\n",
        "df.duplicated().sum()"
      ],
      "metadata": {
        "colab": {
          "base_uri": "https://localhost:8080/"
        },
        "id": "E3E4Dz5H2XEs",
        "outputId": "096753fc-8a7f-4611-a615-76b4b79a444a"
      },
      "execution_count": 63,
      "outputs": [
        {
          "output_type": "execute_result",
          "data": {
            "text/plain": [
              "0"
            ]
          },
          "metadata": {},
          "execution_count": 63
        }
      ]
    },
    {
      "cell_type": "code",
      "source": [
        "# Check for Missing Values\n",
        "df.isna().sum()"
      ],
      "metadata": {
        "colab": {
          "base_uri": "https://localhost:8080/"
        },
        "id": "_rSLEXUc2WLq",
        "outputId": "ef6f5fab-464e-4229-ee14-c46a63ec8d5b"
      },
      "execution_count": 64,
      "outputs": [
        {
          "output_type": "execute_result",
          "data": {
            "text/plain": [
              "id                     0\n",
              "gender                 0\n",
              "age                    0\n",
              "hypertension           0\n",
              "heart_disease          0\n",
              "ever_married           0\n",
              "work_type              0\n",
              "Residence_type         0\n",
              "avg_glucose_level      0\n",
              "bmi                  201\n",
              "smoking_status         0\n",
              "stroke                 0\n",
              "dtype: int64"
            ]
          },
          "metadata": {},
          "execution_count": 64
        }
      ]
    },
    {
      "cell_type": "markdown",
      "source": [
        "Address inconsistent Values"
      ],
      "metadata": {
        "id": "JATG-rkNp0gB"
      }
    },
    {
      "cell_type": "code",
      "source": [
        "# Change the age column from an object to an integer\n",
        "df['age'] = df['age'].astype(float)"
      ],
      "metadata": {
        "id": "VjwGCl0TdDur"
      },
      "execution_count": 65,
      "outputs": []
    },
    {
      "cell_type": "code",
      "source": [
        "# encoding the smoking status column\n",
        "df['smoking_status'].replace({'Unknown':0, 'smokes':1, 'formerly smoked':2, 'never smoked':3}, inplace=True)"
      ],
      "metadata": {
        "id": "W5jvJQgtRJ8k"
      },
      "execution_count": 66,
      "outputs": []
    },
    {
      "cell_type": "code",
      "source": [
        "# encoding the residence type column\n",
        "df['Residence_type'].replace({'Rural': 0, 'Urban': 1}, inplace=True)"
      ],
      "metadata": {
        "id": "HwNmEbifSVyB"
      },
      "execution_count": 67,
      "outputs": []
    },
    {
      "cell_type": "code",
      "source": [
        "# encoding the work type column\n",
        "df['work_type'].replace({'children': 0, 'Self-employed': 1, 'Private': 2, 'Govt_job': 3, 'Never_worked': 4}, inplace=True)"
      ],
      "metadata": {
        "id": "Kw8x67BiSZvq"
      },
      "execution_count": 68,
      "outputs": []
    },
    {
      "cell_type": "code",
      "source": [
        "# encoding the gender column\n",
        "df['gender'].replace({'Female': 0, 'Male': 1, 'Other': 2}, inplace=True)"
      ],
      "metadata": {
        "id": "IxwEoS-oTyhW"
      },
      "execution_count": 69,
      "outputs": []
    },
    {
      "cell_type": "code",
      "source": [
        "# encoding the ever_married column\n",
        "df['ever_married'].replace({'No': 0, 'Yes': 1}, inplace=True)"
      ],
      "metadata": {
        "id": "D7JzNMLzUXkK"
      },
      "execution_count": 70,
      "outputs": []
    },
    {
      "cell_type": "code",
      "source": [
        "df.dropna(subset=['bmi'], inplace=True)\n",
        "df.isna().sum()"
      ],
      "metadata": {
        "colab": {
          "base_uri": "https://localhost:8080/"
        },
        "id": "kWlP_rY559NU",
        "outputId": "91d338e7-9af6-4b9d-a215-5c59c78c246e"
      },
      "execution_count": 71,
      "outputs": [
        {
          "output_type": "execute_result",
          "data": {
            "text/plain": [
              "id                   0\n",
              "gender               0\n",
              "age                  0\n",
              "hypertension         0\n",
              "heart_disease        0\n",
              "ever_married         0\n",
              "work_type            0\n",
              "Residence_type       0\n",
              "avg_glucose_level    0\n",
              "bmi                  0\n",
              "smoking_status       0\n",
              "stroke               0\n",
              "dtype: int64"
            ]
          },
          "metadata": {},
          "execution_count": 71
        }
      ]
    },
    {
      "cell_type": "code",
      "source": [
        "df.info()"
      ],
      "metadata": {
        "colab": {
          "base_uri": "https://localhost:8080/"
        },
        "id": "IA3mvRuViDoY",
        "outputId": "de92c49a-e9cf-4ebf-a702-a70f52925f39"
      },
      "execution_count": 72,
      "outputs": [
        {
          "output_type": "stream",
          "name": "stdout",
          "text": [
            "<class 'pandas.core.frame.DataFrame'>\n",
            "Int64Index: 4909 entries, 0 to 5109\n",
            "Data columns (total 12 columns):\n",
            " #   Column             Non-Null Count  Dtype  \n",
            "---  ------             --------------  -----  \n",
            " 0   id                 4909 non-null   int64  \n",
            " 1   gender             4909 non-null   int64  \n",
            " 2   age                4909 non-null   float64\n",
            " 3   hypertension       4909 non-null   int64  \n",
            " 4   heart_disease      4909 non-null   int64  \n",
            " 5   ever_married       4909 non-null   int64  \n",
            " 6   work_type          4909 non-null   int64  \n",
            " 7   Residence_type     4909 non-null   int64  \n",
            " 8   avg_glucose_level  4909 non-null   float64\n",
            " 9   bmi                4909 non-null   float64\n",
            " 10  smoking_status     4909 non-null   int64  \n",
            " 11  stroke             4909 non-null   int64  \n",
            "dtypes: float64(3), int64(9)\n",
            "memory usage: 498.6 KB\n"
          ]
        }
      ]
    },
    {
      "cell_type": "markdown",
      "source": [
        "##Prepare the dataset"
      ],
      "metadata": {
        "id": "I_aOEH9RVgXG"
      }
    },
    {
      "cell_type": "code",
      "source": [
        "#identify\n",
        "X = df.drop(columns='stroke', axis=1)\n",
        "y = df['stroke']\n",
        "# Train Test Split\n",
        "X_train, X_test, y_train, y_test = train_test_split(X, y, random_state = 42)"
      ],
      "metadata": {
        "id": "Om_m3dVwXX3i"
      },
      "execution_count": 73,
      "outputs": []
    },
    {
      "cell_type": "code",
      "source": [
        "#instantiate SimpleImputers with most_frequent and mean strategies\n",
        "mean_imputer = SimpleImputer(strategy='mean')\n",
        "scaler = StandardScaler()"
      ],
      "metadata": {
        "id": "C5S5E1AMXgo-"
      },
      "execution_count": 74,
      "outputs": []
    },
    {
      "cell_type": "code",
      "source": [
        "cat_selector = make_column_selector(dtype_include='object')\n",
        "num_selector = make_column_selector(dtype_include = 'number')"
      ],
      "metadata": {
        "id": "bSInMy8PeuaI"
      },
      "execution_count": 75,
      "outputs": []
    },
    {
      "cell_type": "code",
      "source": [
        "# make pipeline\n",
        "num_pipe = make_pipeline(mean_imputer, scaler)"
      ],
      "metadata": {
        "id": "erWYzMLheTs5"
      },
      "execution_count": 76,
      "outputs": []
    },
    {
      "cell_type": "code",
      "source": [
        "# create tuples of (imputer, selector) for each datatype\n",
        "num_tuple = (num_pipe, num_selector)"
      ],
      "metadata": {
        "id": "XdLsvU47fFaU"
      },
      "execution_count": 77,
      "outputs": []
    },
    {
      "cell_type": "code",
      "source": [
        "preprocessor = make_column_transformer(num_tuple, remainder='drop')\n",
        "preprocessor"
      ],
      "metadata": {
        "colab": {
          "base_uri": "https://localhost:8080/",
          "height": 153
        },
        "id": "Wdet0k6KfQxk",
        "outputId": "5c5ac93d-2a5a-4afe-e5e0-967110f01770"
      },
      "execution_count": 78,
      "outputs": [
        {
          "output_type": "execute_result",
          "data": {
            "text/plain": [
              "ColumnTransformer(transformers=[('pipeline',\n",
              "                                 Pipeline(steps=[('simpleimputer',\n",
              "                                                  SimpleImputer()),\n",
              "                                                 ('standardscaler',\n",
              "                                                  StandardScaler())]),\n",
              "                                 <sklearn.compose._column_transformer.make_column_selector object at 0x7f3222eb3280>)])"
            ],
            "text/html": [
              "<style>#sk-ad1fe64c-d058-4f78-9c69-eb41738064c4 {color: black;background-color: white;}#sk-ad1fe64c-d058-4f78-9c69-eb41738064c4 pre{padding: 0;}#sk-ad1fe64c-d058-4f78-9c69-eb41738064c4 div.sk-toggleable {background-color: white;}#sk-ad1fe64c-d058-4f78-9c69-eb41738064c4 label.sk-toggleable__label {cursor: pointer;display: block;width: 100%;margin-bottom: 0;padding: 0.3em;box-sizing: border-box;text-align: center;}#sk-ad1fe64c-d058-4f78-9c69-eb41738064c4 label.sk-toggleable__label-arrow:before {content: \"▸\";float: left;margin-right: 0.25em;color: #696969;}#sk-ad1fe64c-d058-4f78-9c69-eb41738064c4 label.sk-toggleable__label-arrow:hover:before {color: black;}#sk-ad1fe64c-d058-4f78-9c69-eb41738064c4 div.sk-estimator:hover label.sk-toggleable__label-arrow:before {color: black;}#sk-ad1fe64c-d058-4f78-9c69-eb41738064c4 div.sk-toggleable__content {max-height: 0;max-width: 0;overflow: hidden;text-align: left;background-color: #f0f8ff;}#sk-ad1fe64c-d058-4f78-9c69-eb41738064c4 div.sk-toggleable__content pre {margin: 0.2em;color: black;border-radius: 0.25em;background-color: #f0f8ff;}#sk-ad1fe64c-d058-4f78-9c69-eb41738064c4 input.sk-toggleable__control:checked~div.sk-toggleable__content {max-height: 200px;max-width: 100%;overflow: auto;}#sk-ad1fe64c-d058-4f78-9c69-eb41738064c4 input.sk-toggleable__control:checked~label.sk-toggleable__label-arrow:before {content: \"▾\";}#sk-ad1fe64c-d058-4f78-9c69-eb41738064c4 div.sk-estimator input.sk-toggleable__control:checked~label.sk-toggleable__label {background-color: #d4ebff;}#sk-ad1fe64c-d058-4f78-9c69-eb41738064c4 div.sk-label input.sk-toggleable__control:checked~label.sk-toggleable__label {background-color: #d4ebff;}#sk-ad1fe64c-d058-4f78-9c69-eb41738064c4 input.sk-hidden--visually {border: 0;clip: rect(1px 1px 1px 1px);clip: rect(1px, 1px, 1px, 1px);height: 1px;margin: -1px;overflow: hidden;padding: 0;position: absolute;width: 1px;}#sk-ad1fe64c-d058-4f78-9c69-eb41738064c4 div.sk-estimator {font-family: monospace;background-color: #f0f8ff;border: 1px dotted black;border-radius: 0.25em;box-sizing: border-box;margin-bottom: 0.5em;}#sk-ad1fe64c-d058-4f78-9c69-eb41738064c4 div.sk-estimator:hover {background-color: #d4ebff;}#sk-ad1fe64c-d058-4f78-9c69-eb41738064c4 div.sk-parallel-item::after {content: \"\";width: 100%;border-bottom: 1px solid gray;flex-grow: 1;}#sk-ad1fe64c-d058-4f78-9c69-eb41738064c4 div.sk-label:hover label.sk-toggleable__label {background-color: #d4ebff;}#sk-ad1fe64c-d058-4f78-9c69-eb41738064c4 div.sk-serial::before {content: \"\";position: absolute;border-left: 1px solid gray;box-sizing: border-box;top: 2em;bottom: 0;left: 50%;}#sk-ad1fe64c-d058-4f78-9c69-eb41738064c4 div.sk-serial {display: flex;flex-direction: column;align-items: center;background-color: white;padding-right: 0.2em;padding-left: 0.2em;}#sk-ad1fe64c-d058-4f78-9c69-eb41738064c4 div.sk-item {z-index: 1;}#sk-ad1fe64c-d058-4f78-9c69-eb41738064c4 div.sk-parallel {display: flex;align-items: stretch;justify-content: center;background-color: white;}#sk-ad1fe64c-d058-4f78-9c69-eb41738064c4 div.sk-parallel::before {content: \"\";position: absolute;border-left: 1px solid gray;box-sizing: border-box;top: 2em;bottom: 0;left: 50%;}#sk-ad1fe64c-d058-4f78-9c69-eb41738064c4 div.sk-parallel-item {display: flex;flex-direction: column;position: relative;background-color: white;}#sk-ad1fe64c-d058-4f78-9c69-eb41738064c4 div.sk-parallel-item:first-child::after {align-self: flex-end;width: 50%;}#sk-ad1fe64c-d058-4f78-9c69-eb41738064c4 div.sk-parallel-item:last-child::after {align-self: flex-start;width: 50%;}#sk-ad1fe64c-d058-4f78-9c69-eb41738064c4 div.sk-parallel-item:only-child::after {width: 0;}#sk-ad1fe64c-d058-4f78-9c69-eb41738064c4 div.sk-dashed-wrapped {border: 1px dashed gray;margin: 0 0.4em 0.5em 0.4em;box-sizing: border-box;padding-bottom: 0.4em;background-color: white;position: relative;}#sk-ad1fe64c-d058-4f78-9c69-eb41738064c4 div.sk-label label {font-family: monospace;font-weight: bold;background-color: white;display: inline-block;line-height: 1.2em;}#sk-ad1fe64c-d058-4f78-9c69-eb41738064c4 div.sk-label-container {position: relative;z-index: 2;text-align: center;}#sk-ad1fe64c-d058-4f78-9c69-eb41738064c4 div.sk-container {/* jupyter's `normalize.less` sets `[hidden] { display: none; }` but bootstrap.min.css set `[hidden] { display: none !important; }` so we also need the `!important` here to be able to override the default hidden behavior on the sphinx rendered scikit-learn.org. See: https://github.com/scikit-learn/scikit-learn/issues/21755 */display: inline-block !important;position: relative;}#sk-ad1fe64c-d058-4f78-9c69-eb41738064c4 div.sk-text-repr-fallback {display: none;}</style><div id=\"sk-ad1fe64c-d058-4f78-9c69-eb41738064c4\" class=\"sk-top-container\"><div class=\"sk-text-repr-fallback\"><pre>ColumnTransformer(transformers=[(&#x27;pipeline&#x27;,\n",
              "                                 Pipeline(steps=[(&#x27;simpleimputer&#x27;,\n",
              "                                                  SimpleImputer()),\n",
              "                                                 (&#x27;standardscaler&#x27;,\n",
              "                                                  StandardScaler())]),\n",
              "                                 &lt;sklearn.compose._column_transformer.make_column_selector object at 0x7f3222eb3280&gt;)])</pre><b>Please rerun this cell to show the HTML repr or trust the notebook.</b></div><div class=\"sk-container\" hidden><div class=\"sk-item sk-dashed-wrapped\"><div class=\"sk-label-container\"><div class=\"sk-label sk-toggleable\"><input class=\"sk-toggleable__control sk-hidden--visually\" id=\"c7d98ce8-ec46-4f68-922a-2925ec88bde8\" type=\"checkbox\" ><label for=\"c7d98ce8-ec46-4f68-922a-2925ec88bde8\" class=\"sk-toggleable__label sk-toggleable__label-arrow\">ColumnTransformer</label><div class=\"sk-toggleable__content\"><pre>ColumnTransformer(transformers=[(&#x27;pipeline&#x27;,\n",
              "                                 Pipeline(steps=[(&#x27;simpleimputer&#x27;,\n",
              "                                                  SimpleImputer()),\n",
              "                                                 (&#x27;standardscaler&#x27;,\n",
              "                                                  StandardScaler())]),\n",
              "                                 &lt;sklearn.compose._column_transformer.make_column_selector object at 0x7f3222eb3280&gt;)])</pre></div></div></div><div class=\"sk-parallel\"><div class=\"sk-parallel-item\"><div class=\"sk-item\"><div class=\"sk-label-container\"><div class=\"sk-label sk-toggleable\"><input class=\"sk-toggleable__control sk-hidden--visually\" id=\"bc9f4bbc-2bc3-412c-84ba-4ce48bdc9b16\" type=\"checkbox\" ><label for=\"bc9f4bbc-2bc3-412c-84ba-4ce48bdc9b16\" class=\"sk-toggleable__label sk-toggleable__label-arrow\">pipeline</label><div class=\"sk-toggleable__content\"><pre>&lt;sklearn.compose._column_transformer.make_column_selector object at 0x7f3222eb3280&gt;</pre></div></div></div><div class=\"sk-serial\"><div class=\"sk-item\"><div class=\"sk-serial\"><div class=\"sk-item\"><div class=\"sk-estimator sk-toggleable\"><input class=\"sk-toggleable__control sk-hidden--visually\" id=\"dfcfb227-fdd9-4b79-8103-ec79b1a5f0d6\" type=\"checkbox\" ><label for=\"dfcfb227-fdd9-4b79-8103-ec79b1a5f0d6\" class=\"sk-toggleable__label sk-toggleable__label-arrow\">SimpleImputer</label><div class=\"sk-toggleable__content\"><pre>SimpleImputer()</pre></div></div></div><div class=\"sk-item\"><div class=\"sk-estimator sk-toggleable\"><input class=\"sk-toggleable__control sk-hidden--visually\" id=\"4cbf3592-0a63-439f-8fea-29eb6776e20a\" type=\"checkbox\" ><label for=\"4cbf3592-0a63-439f-8fea-29eb6776e20a\" class=\"sk-toggleable__label sk-toggleable__label-arrow\">StandardScaler</label><div class=\"sk-toggleable__content\"><pre>StandardScaler()</pre></div></div></div></div></div></div></div></div></div></div></div></div>"
            ]
          },
          "metadata": {},
          "execution_count": 78
        }
      ]
    },
    {
      "cell_type": "code",
      "source": [
        "# fit ColumnTransformer on the training data\n",
        "preprocessor.fit(X_train, y_train)\n",
        "\n",
        "# transform both the training and testing data (this will output a NumPy array)\n",
        "X_train_imputed = preprocessor.transform(X_train)\n",
        "X_test_imputed = preprocessor.transform(X_test)"
      ],
      "metadata": {
        "id": "rX2PrV15k2xW"
      },
      "execution_count": 79,
      "outputs": []
    },
    {
      "cell_type": "code",
      "source": [
        "X_train_imputed"
      ],
      "metadata": {
        "colab": {
          "base_uri": "https://localhost:8080/"
        },
        "id": "nVKG_ln50Pnv",
        "outputId": "524bf966-28c9-4335-f46c-c1a2087b3ed3"
      },
      "execution_count": 80,
      "outputs": [
        {
          "output_type": "execute_result",
          "data": {
            "text/plain": [
              "array([[ 1.11037092, -0.82698222, -0.52064637, ..., -0.03879792,\n",
              "        -1.06922118,  0.29069877],\n",
              "       [ 1.34266975,  1.2064991 , -1.81017863, ..., -0.9564555 ,\n",
              "         0.07450419, -1.29457851],\n",
              "       [ 1.12139223, -0.82698222,  0.76888589, ...,  0.20472213,\n",
              "         0.19016181, -0.50193987],\n",
              "       ...,\n",
              "       [ 1.28638068, -0.82698222,  0.45761948, ..., -0.32993867,\n",
              "        -0.86360763,  0.29069877],\n",
              "       [-1.38413346, -0.82698222, -1.40997896, ..., -0.26539118,\n",
              "        -1.03066864, -1.29457851],\n",
              "       [ 1.44559833,  1.2064991 ,  0.90228578, ..., -1.07088059,\n",
              "        -0.00260089,  0.29069877]])"
            ]
          },
          "metadata": {},
          "execution_count": 80
        }
      ]
    },
    {
      "cell_type": "markdown",
      "source": [
        "## Creating multivariate (multiple variables) exploratory visualizations to further understand your data and search for trends"
      ],
      "metadata": {
        "id": "kbDZIqevqpNm"
      }
    },
    {
      "cell_type": "code",
      "source": [
        "corr = df.corr()"
      ],
      "metadata": {
        "id": "eV4YQRL_o2-_"
      },
      "execution_count": 81,
      "outputs": []
    },
    {
      "cell_type": "code",
      "source": [
        "# the heatmap\n",
        "sns.heatmap(corr, cmap = 'Oranges', annot = True);"
      ],
      "metadata": {
        "colab": {
          "base_uri": "https://localhost:8080/",
          "height": 350
        },
        "id": "MrQtJAKAq1Et",
        "outputId": "2760ad29-9260-4167-eb6e-992d4f7c8d1a"
      },
      "execution_count": 82,
      "outputs": [
        {
          "output_type": "display_data",
          "data": {
            "text/plain": [
              "<Figure size 432x288 with 2 Axes>"
            ],
            "image/png": "[encoded data removed]"
          },
          "metadata": {
            "needs_background": "light"
          }
        }
      ]
    },
    {
      "cell_type": "markdown",
      "source": [
        "The is a moderate correlation between a age and marital status in this dataset with value of 0.68."
      ],
      "metadata": {
        "id": "q8RQbgDMr8Cj"
      }
    },
    {
      "cell_type": "code",
      "source": [
        "# boxplot\n",
        "sns.boxplot(data=df, x='ever_married', y='age');\n",
        "plt.xticks(rotation = 45);"
      ],
      "metadata": {
        "colab": {
          "base_uri": "https://localhost:8080/",
          "height": 282
        },
        "id": "ZplTcXE9sZa2",
        "outputId": "715b9b89-039c-4dc3-d8ec-022288bd29eb"
      },
      "execution_count": 83,
      "outputs": [
        {
          "output_type": "display_data",
          "data": {
            "text/plain": [
              "<Figure size 432x288 with 1 Axes>"
            ],
            "image/png": "[encoded data removed]"
          },
          "metadata": {
            "needs_background": "light"
          }
        }
      ]
    },
    {
      "cell_type": "markdown",
      "source": [
        "In the Boxplot above, the average mean of age of unmarried patient is under 20 while the average mean age of married patient in our dataset is 55. This box plot shows the age range among potential stroke patients based on marital status."
      ],
      "metadata": {
        "id": "BGtMFczw77AJ"
      }
    },
    {
      "cell_type": "code",
      "source": [
        "## patient's age\n",
        "X= df['age']\n",
        "y= df['bmi']\n",
        "\n",
        "plt.hist([X,y])\n",
        "plt.xlabel(\n",
        "    'Age')\n",
        "plt.ylabel(\n",
        "    'Body_Mass_Index')\n",
        "plt.show()\n",
        "plt.savefig('MATLABSavedPlot.png', dpi = 300),"
      ],
      "metadata": {
        "colab": {
          "base_uri": "https://localhost:8080/",
          "height": 316
        },
        "id": "5A5ipXzZNFMv",
        "outputId": "57a92578-8b3a-4fd1-d611-caf216ceb785"
      },
      "execution_count": 84,
      "outputs": [
        {
          "output_type": "display_data",
          "data": {
            "text/plain": [
              "<Figure size 432x288 with 1 Axes>"
            ],
            "image/png": "[encoded data removed]"
          },
          "metadata": {
            "needs_background": "light"
          }
        },
        {
          "output_type": "execute_result",
          "data": {
            "text/plain": [
              "(None,)"
            ]
          },
          "metadata": {},
          "execution_count": 84
        },
        {
          "output_type": "display_data",
          "data": {
            "text/plain": [
              "<Figure size 432x288 with 0 Axes>"
            ]
          },
          "metadata": {}
        }
      ]
    },
    {
      "cell_type": "markdown",
      "source": [
        "In the Histogram above, it shows patient at the of age 24 and under, and those above the age of 75 have a lower Body Mass Index. Teenaegers and young adult are a lot mobile and tend to engage in more outdoor activities than any other age groups which contributes to a lower Body Mass Index. Those in of age range of 75 and up tend to shrink down in size the older they get which also contributes to a lower Body Mass Index. the histogram shows other age groups with a higher Body Mass Index. Obesity and Excess weight does increase the risk of severe illness and other health problems."
      ],
      "metadata": {
        "id": "PfNh2wBRNlmj"
      }
    },
    {
      "cell_type": "code",
      "source": [
        "sns.barplot(data=df, x= 'ever_married', y= 'smoking_status')\n",
        "plt.xticks(rotation = 90);"
      ],
      "metadata": {
        "colab": {
          "base_uri": "https://localhost:8080/",
          "height": 277
        },
        "id": "RX84AcwzZR7U",
        "outputId": "dbd1e480-2f72-4bd9-83aa-79a2e3d97c44"
      },
      "execution_count": 85,
      "outputs": [
        {
          "output_type": "display_data",
          "data": {
            "text/plain": [
              "<Figure size 432x288 with 1 Axes>"
            ],
            "image/png": "[encoded data removed]"
          },
          "metadata": {
            "needs_background": "light"
          }
        }
      ]
    },
    {
      "cell_type": "markdown",
      "source": [
        "In this Barplot, we see that marital status corrolates with smoking status. we also see that married patients have a higher smoking rate than unmarried patients. Marriage can cause lots of stress that turns a none-smoker into a smoker."
      ],
      "metadata": {
        "id": "yw_2DKmCZbcq"
      }
    },
    {
      "cell_type": "markdown",
      "source": [
        "### Try multiple models and tune the hyperparameters of each model to optimize model performance (include all models and hyperparameters tested in addition to the final model)."
      ],
      "metadata": {
        "id": "XsExqoU4sQqb"
      }
    },
    {
      "cell_type": "markdown",
      "source": [
        "**First Model**"
      ],
      "metadata": {
        "id": "xruRHH-0qo2P"
      }
    },
    {
      "cell_type": "code",
      "source": [
        "def eval_classification(model, X_train, X_test, y_train, y_test):\n",
        "  print('Train Report:', classification_report(y_train, model.predict(X_train)))\n",
        "  print('Test Report:', classification_report(y_test, model.predict(X_test)))\n"
      ],
      "metadata": {
        "id": "qUs7WPq1wuEp"
      },
      "execution_count": 86,
      "outputs": []
    },
    {
      "cell_type": "code",
      "source": [
        "# Make an instance of the model with default parameters\n",
        "model = DecisionTreeClassifier()"
      ],
      "metadata": {
        "id": "RixqezsIPymb"
      },
      "execution_count": 87,
      "outputs": []
    },
    {
      "cell_type": "code",
      "source": [
        "# Put scaler and model in a pipeline\n",
        "dectree_pipe = make_pipeline(scaler, model)\n",
        "dectree_pipe.get_params()"
      ],
      "metadata": {
        "colab": {
          "base_uri": "https://localhost:8080/"
        },
        "id": "ecKZ8lbXQDSH",
        "outputId": "89f22f98-3459-44c4-eed3-f6d8c8948450"
      },
      "execution_count": 88,
      "outputs": [
        {
          "output_type": "execute_result",
          "data": {
            "text/plain": [
              "{'memory': None,\n",
              " 'steps': [('standardscaler', StandardScaler()),\n",
              "  ('decisiontreeclassifier', DecisionTreeClassifier())],\n",
              " 'verbose': False,\n",
              " 'standardscaler': StandardScaler(),\n",
              " 'decisiontreeclassifier': DecisionTreeClassifier(),\n",
              " 'standardscaler__copy': True,\n",
              " 'standardscaler__with_mean': True,\n",
              " 'standardscaler__with_std': True,\n",
              " 'decisiontreeclassifier__ccp_alpha': 0.0,\n",
              " 'decisiontreeclassifier__class_weight': None,\n",
              " 'decisiontreeclassifier__criterion': 'gini',\n",
              " 'decisiontreeclassifier__max_depth': None,\n",
              " 'decisiontreeclassifier__max_features': None,\n",
              " 'decisiontreeclassifier__max_leaf_nodes': None,\n",
              " 'decisiontreeclassifier__min_impurity_decrease': 0.0,\n",
              " 'decisiontreeclassifier__min_samples_leaf': 1,\n",
              " 'decisiontreeclassifier__min_samples_split': 2,\n",
              " 'decisiontreeclassifier__min_weight_fraction_leaf': 0.0,\n",
              " 'decisiontreeclassifier__random_state': None,\n",
              " 'decisiontreeclassifier__splitter': 'best'}"
            ]
          },
          "metadata": {},
          "execution_count": 88
        }
      ]
    },
    {
      "cell_type": "code",
      "source": [
        "pipe_param_grid = {'max_depth': [1,2,3],\n",
        "              'min_samples_leaf': [3,15,20],\n",
        "              'min_samples_split': [2, 10, 100]}"
      ],
      "metadata": {
        "id": "FlGpV49eDa25"
      },
      "execution_count": 89,
      "outputs": []
    },
    {
      "cell_type": "code",
      "source": [
        "#fit the model\n",
        "dectree_grid_search = GridSearchCV(model, pipe_param_grid)"
      ],
      "metadata": {
        "id": "OuFogW1eQXzK"
      },
      "execution_count": 90,
      "outputs": []
    },
    {
      "cell_type": "code",
      "source": [
        "dectree_grid_search.fit(X_train, y_train)"
      ],
      "metadata": {
        "colab": {
          "base_uri": "https://localhost:8080/",
          "height": 93
        },
        "id": "fuWlxxdLMuSj",
        "outputId": "49171251-f5ff-4d3e-c794-411073e0a850"
      },
      "execution_count": 91,
      "outputs": [
        {
          "output_type": "execute_result",
          "data": {
            "text/plain": [
              "GridSearchCV(estimator=DecisionTreeClassifier(),\n",
              "             param_grid={'max_depth': [1, 2, 3],\n",
              "                         'min_samples_leaf': [3, 15, 20],\n",
              "                         'min_samples_split': [2, 10, 100]})"
            ],
            "text/html": [
              "<style>#sk-d520725f-a873-4720-b656-c18d23252a14 {color: black;background-color: white;}#sk-d520725f-a873-4720-b656-c18d23252a14 pre{padding: 0;}#sk-d520725f-a873-4720-b656-c18d23252a14 div.sk-toggleable {background-color: white;}#sk-d520725f-a873-4720-b656-c18d23252a14 label.sk-toggleable__label {cursor: pointer;display: block;width: 100%;margin-bottom: 0;padding: 0.3em;box-sizing: border-box;text-align: center;}#sk-d520725f-a873-4720-b656-c18d23252a14 label.sk-toggleable__label-arrow:before {content: \"▸\";float: left;margin-right: 0.25em;color: #696969;}#sk-d520725f-a873-4720-b656-c18d23252a14 label.sk-toggleable__label-arrow:hover:before {color: black;}#sk-d520725f-a873-4720-b656-c18d23252a14 div.sk-estimator:hover label.sk-toggleable__label-arrow:before {color: black;}#sk-d520725f-a873-4720-b656-c18d23252a14 div.sk-toggleable__content {max-height: 0;max-width: 0;overflow: hidden;text-align: left;background-color: #f0f8ff;}#sk-d520725f-a873-4720-b656-c18d23252a14 div.sk-toggleable__content pre {margin: 0.2em;color: black;border-radius: 0.25em;background-color: #f0f8ff;}#sk-d520725f-a873-4720-b656-c18d23252a14 input.sk-toggleable__control:checked~div.sk-toggleable__content {max-height: 200px;max-width: 100%;overflow: auto;}#sk-d520725f-a873-4720-b656-c18d23252a14 input.sk-toggleable__control:checked~label.sk-toggleable__label-arrow:before {content: \"▾\";}#sk-d520725f-a873-4720-b656-c18d23252a14 div.sk-estimator input.sk-toggleable__control:checked~label.sk-toggleable__label {background-color: #d4ebff;}#sk-d520725f-a873-4720-b656-c18d23252a14 div.sk-label input.sk-toggleable__control:checked~label.sk-toggleable__label {background-color: #d4ebff;}#sk-d520725f-a873-4720-b656-c18d23252a14 input.sk-hidden--visually {border: 0;clip: rect(1px 1px 1px 1px);clip: rect(1px, 1px, 1px, 1px);height: 1px;margin: -1px;overflow: hidden;padding: 0;position: absolute;width: 1px;}#sk-d520725f-a873-4720-b656-c18d23252a14 div.sk-estimator {font-family: monospace;background-color: #f0f8ff;border: 1px dotted black;border-radius: 0.25em;box-sizing: border-box;margin-bottom: 0.5em;}#sk-d520725f-a873-4720-b656-c18d23252a14 div.sk-estimator:hover {background-color: #d4ebff;}#sk-d520725f-a873-4720-b656-c18d23252a14 div.sk-parallel-item::after {content: \"\";width: 100%;border-bottom: 1px solid gray;flex-grow: 1;}#sk-d520725f-a873-4720-b656-c18d23252a14 div.sk-label:hover label.sk-toggleable__label {background-color: #d4ebff;}#sk-d520725f-a873-4720-b656-c18d23252a14 div.sk-serial::before {content: \"\";position: absolute;border-left: 1px solid gray;box-sizing: border-box;top: 2em;bottom: 0;left: 50%;}#sk-d520725f-a873-4720-b656-c18d23252a14 div.sk-serial {display: flex;flex-direction: column;align-items: center;background-color: white;padding-right: 0.2em;padding-left: 0.2em;}#sk-d520725f-a873-4720-b656-c18d23252a14 div.sk-item {z-index: 1;}#sk-d520725f-a873-4720-b656-c18d23252a14 div.sk-parallel {display: flex;align-items: stretch;justify-content: center;background-color: white;}#sk-d520725f-a873-4720-b656-c18d23252a14 div.sk-parallel::before {content: \"\";position: absolute;border-left: 1px solid gray;box-sizing: border-box;top: 2em;bottom: 0;left: 50%;}#sk-d520725f-a873-4720-b656-c18d23252a14 div.sk-parallel-item {display: flex;flex-direction: column;position: relative;background-color: white;}#sk-d520725f-a873-4720-b656-c18d23252a14 div.sk-parallel-item:first-child::after {align-self: flex-end;width: 50%;}#sk-d520725f-a873-4720-b656-c18d23252a14 div.sk-parallel-item:last-child::after {align-self: flex-start;width: 50%;}#sk-d520725f-a873-4720-b656-c18d23252a14 div.sk-parallel-item:only-child::after {width: 0;}#sk-d520725f-a873-4720-b656-c18d23252a14 div.sk-dashed-wrapped {border: 1px dashed gray;margin: 0 0.4em 0.5em 0.4em;box-sizing: border-box;padding-bottom: 0.4em;background-color: white;position: relative;}#sk-d520725f-a873-4720-b656-c18d23252a14 div.sk-label label {font-family: monospace;font-weight: bold;background-color: white;display: inline-block;line-height: 1.2em;}#sk-d520725f-a873-4720-b656-c18d23252a14 div.sk-label-container {position: relative;z-index: 2;text-align: center;}#sk-d520725f-a873-4720-b656-c18d23252a14 div.sk-container {/* jupyter's `normalize.less` sets `[hidden] { display: none; }` but bootstrap.min.css set `[hidden] { display: none !important; }` so we also need the `!important` here to be able to override the default hidden behavior on the sphinx rendered scikit-learn.org. See: https://github.com/scikit-learn/scikit-learn/issues/21755 */display: inline-block !important;position: relative;}#sk-d520725f-a873-4720-b656-c18d23252a14 div.sk-text-repr-fallback {display: none;}</style><div id=\"sk-d520725f-a873-4720-b656-c18d23252a14\" class=\"sk-top-container\"><div class=\"sk-text-repr-fallback\"><pre>GridSearchCV(estimator=DecisionTreeClassifier(),\n",
              "             param_grid={&#x27;max_depth&#x27;: [1, 2, 3],\n",
              "                         &#x27;min_samples_leaf&#x27;: [3, 15, 20],\n",
              "                         &#x27;min_samples_split&#x27;: [2, 10, 100]})</pre><b>Please rerun this cell to show the HTML repr or trust the notebook.</b></div><div class=\"sk-container\" hidden><div class=\"sk-item sk-dashed-wrapped\"><div class=\"sk-label-container\"><div class=\"sk-label sk-toggleable\"><input class=\"sk-toggleable__control sk-hidden--visually\" id=\"d07269fc-c70e-421c-9cbf-6eed01f85fb3\" type=\"checkbox\" ><label for=\"d07269fc-c70e-421c-9cbf-6eed01f85fb3\" class=\"sk-toggleable__label sk-toggleable__label-arrow\">GridSearchCV</label><div class=\"sk-toggleable__content\"><pre>GridSearchCV(estimator=DecisionTreeClassifier(),\n",
              "             param_grid={&#x27;max_depth&#x27;: [1, 2, 3],\n",
              "                         &#x27;min_samples_leaf&#x27;: [3, 15, 20],\n",
              "                         &#x27;min_samples_split&#x27;: [2, 10, 100]})</pre></div></div></div><div class=\"sk-parallel\"><div class=\"sk-parallel-item\"><div class=\"sk-item\"><div class=\"sk-serial\"><div class=\"sk-item\"><div class=\"sk-estimator sk-toggleable\"><input class=\"sk-toggleable__control sk-hidden--visually\" id=\"856a30b8-5f23-4977-8098-ddd1e7e1d4b9\" type=\"checkbox\" ><label for=\"856a30b8-5f23-4977-8098-ddd1e7e1d4b9\" class=\"sk-toggleable__label sk-toggleable__label-arrow\">DecisionTreeClassifier</label><div class=\"sk-toggleable__content\"><pre>DecisionTreeClassifier()</pre></div></div></div></div></div></div></div></div></div></div>"
            ]
          },
          "metadata": {},
          "execution_count": 91
        }
      ]
    },
    {
      "cell_type": "code",
      "source": [
        "dectree_grid_search.best_params_"
      ],
      "metadata": {
        "colab": {
          "base_uri": "https://localhost:8080/"
        },
        "id": "04pKqV6hSJgK",
        "outputId": "1ab0bd97-7a92-4aaf-b40b-fb79650c606f"
      },
      "execution_count": 92,
      "outputs": [
        {
          "output_type": "execute_result",
          "data": {
            "text/plain": [
              "{'max_depth': 1, 'min_samples_leaf': 3, 'min_samples_split': 2}"
            ]
          },
          "metadata": {},
          "execution_count": 92
        }
      ]
    },
    {
      "cell_type": "markdown",
      "source": [
        "Adjusting the Ranges of Hyperparameter Values."
      ],
      "metadata": {
        "id": "hMBjhGkPUIq2"
      }
    },
    {
      "cell_type": "code",
      "source": [
        "pipe_param_grid2 = {'max_depth': [3, 5, 10],\n",
        "              'min_samples_leaf': [1, 2, 3],\n",
        "              'min_samples_split': [2, 4, 7]}\n",
        "\n",
        "dectree_grid_search2 = GridSearchCV(model, pipe_param_grid2)\n",
        "dectree_grid_search2.fit(X_train, y_train)\n",
        "dectree_grid_search2.best_params_"
      ],
      "metadata": {
        "colab": {
          "base_uri": "https://localhost:8080/"
        },
        "id": "l6CQ_LGJTlvG",
        "outputId": "6e4f033f-e23f-4d88-9a6d-972275a735a3"
      },
      "execution_count": 93,
      "outputs": [
        {
          "output_type": "execute_result",
          "data": {
            "text/plain": [
              "{'max_depth': 3, 'min_samples_leaf': 3, 'min_samples_split': 2}"
            ]
          },
          "metadata": {},
          "execution_count": 93
        }
      ]
    },
    {
      "cell_type": "code",
      "source": [
        "#retrieve the best version of the model\n",
        "first_model = dectree_grid_search2.best_estimator_\n",
        "\n",
        "#refit the model on the whole training set\n",
        "first_model.fit(X_train, y_train)\n",
        "#score the model on the test set\n",
        "first_model.score(X_test, y_test)"
      ],
      "metadata": {
        "colab": {
          "base_uri": "https://localhost:8080/"
        },
        "id": "0f5DGb1TWdeb",
        "outputId": "2e7a01eb-e61f-46ce-b3e3-47789e8b18b0"
      },
      "execution_count": 94,
      "outputs": [
        {
          "output_type": "execute_result",
          "data": {
            "text/plain": [
              "0.9470684039087948"
            ]
          },
          "metadata": {},
          "execution_count": 94
        }
      ]
    },
    {
      "cell_type": "code",
      "source": [
        "# evaluate\n",
        "eval_classification (dectree_grid_search2, X_train, X_test, y_train, y_test)"
      ],
      "metadata": {
        "colab": {
          "base_uri": "https://localhost:8080/"
        },
        "id": "selKXpfOqIHM",
        "outputId": "b1719293-8b2e-4bbd-f1d3-2b37b13054b0"
      },
      "execution_count": 95,
      "outputs": [
        {
          "output_type": "stream",
          "name": "stdout",
          "text": [
            "Train Report:               precision    recall  f1-score   support\n",
            "\n",
            "           0       0.96      1.00      0.98      3535\n",
            "           1       0.70      0.05      0.09       146\n",
            "\n",
            "    accuracy                           0.96      3681\n",
            "   macro avg       0.83      0.52      0.54      3681\n",
            "weighted avg       0.95      0.96      0.94      3681\n",
            "\n",
            "Test Report:               precision    recall  f1-score   support\n",
            "\n",
            "           0       0.95      1.00      0.97      1165\n",
            "           1       0.00      0.00      0.00        63\n",
            "\n",
            "    accuracy                           0.95      1228\n",
            "   macro avg       0.47      0.50      0.49      1228\n",
            "weighted avg       0.90      0.95      0.92      1228\n",
            "\n"
          ]
        }
      ]
    },
    {
      "cell_type": "markdown",
      "source": [
        "**Evaluating using GridSearch the score is 0.9470684039087948. Evaluating using Classification Report the accuracy score is 0.95**"
      ],
      "metadata": {
        "id": "j-1XMV7riOUf"
      }
    },
    {
      "cell_type": "markdown",
      "source": [
        "**2nd Model**"
      ],
      "metadata": {
        "id": "zdaVUflIuy4h"
      }
    },
    {
      "cell_type": "code",
      "source": [
        "# Make an instance of the model with default parameters\n",
        "model_2 = KNeighborsClassifier()"
      ],
      "metadata": {
        "id": "KPFcAHmYsVff"
      },
      "execution_count": 96,
      "outputs": []
    },
    {
      "cell_type": "code",
      "source": [
        "# look for tunable hyperparameters\n",
        "model_2.get_params()"
      ],
      "metadata": {
        "colab": {
          "base_uri": "https://localhost:8080/"
        },
        "id": "XqTkQ0Ze18UO",
        "outputId": "d6aed3da-fa8f-45f0-cdd7-b88399c99222"
      },
      "execution_count": 97,
      "outputs": [
        {
          "output_type": "execute_result",
          "data": {
            "text/plain": [
              "{'algorithm': 'auto',\n",
              " 'leaf_size': 30,\n",
              " 'metric': 'minkowski',\n",
              " 'metric_params': None,\n",
              " 'n_jobs': None,\n",
              " 'n_neighbors': 5,\n",
              " 'p': 2,\n",
              " 'weights': 'uniform'}"
            ]
          },
          "metadata": {},
          "execution_count": 97
        }
      ]
    },
    {
      "cell_type": "code",
      "source": [
        "model_2_pipe = make_pipeline(scaler, model_2)\n",
        "model_2_pipe_param_grid = {'kneighborsclassifier__n_neighbors': range(1,10),\n",
        "              'kneighborsclassifier__p': range(1,5),\n",
        "              'kneighborsclassifier__weights': ['distance','uniform']}"
      ],
      "metadata": {
        "id": "gMlYwdy9TKg1"
      },
      "execution_count": 98,
      "outputs": []
    },
    {
      "cell_type": "code",
      "source": [
        "%%time\n",
        "# fitting\n",
        "model_2_pipe_gs = GridSearchCV(model_2_pipe, model_2_pipe_param_grid)\n",
        "model_2_pipe_gs.fit(X_train, y_train)\n",
        "\n",
        "best_model_2_pipe = model_2_pipe_gs.best_estimator_\n",
        "\n",
        "print('Best model_2 Parameters:')\n",
        "print(model_2_pipe_gs.best_params_)\n",
        "print(f'Accuracy of best model_2 is: {best_model_2_pipe.score(X_test, y_test)}')"
      ],
      "metadata": {
        "colab": {
          "base_uri": "https://localhost:8080/"
        },
        "id": "ez0DvJnF3beH",
        "outputId": "45944f40-4b1e-4dbd-df56-2c65bda4d667"
      },
      "execution_count": 99,
      "outputs": [
        {
          "output_type": "stream",
          "name": "stdout",
          "text": [
            "Best model_2 Parameters:\n",
            "{'kneighborsclassifier__n_neighbors': 7, 'kneighborsclassifier__p': 3, 'kneighborsclassifier__weights': 'uniform'}\n",
            "Accuracy of best model_2 is: 0.9470684039087948\n",
            "CPU times: user 2min 11s, sys: 167 ms, total: 2min 11s\n",
            "Wall time: 2min 11s\n"
          ]
        }
      ]
    },
    {
      "cell_type": "code",
      "source": [
        "# evaluate\n",
        "eval_classification (model_2_pipe_gs, X_train, X_test, y_train, y_test)"
      ],
      "metadata": {
        "colab": {
          "base_uri": "https://localhost:8080/"
        },
        "id": "IB4LrDS6xaFl",
        "outputId": "a4d44258-c9d0-43a6-b2f3-bb7320340aae"
      },
      "execution_count": 100,
      "outputs": [
        {
          "output_type": "stream",
          "name": "stdout",
          "text": [
            "Train Report:               precision    recall  f1-score   support\n",
            "\n",
            "           0       0.96      1.00      0.98      3535\n",
            "           1       0.00      0.00      0.00       146\n",
            "\n",
            "    accuracy                           0.96      3681\n",
            "   macro avg       0.48      0.50      0.49      3681\n",
            "weighted avg       0.92      0.96      0.94      3681\n",
            "\n",
            "Test Report:               precision    recall  f1-score   support\n",
            "\n",
            "           0       0.95      1.00      0.97      1165\n",
            "           1       0.00      0.00      0.00        63\n",
            "\n",
            "    accuracy                           0.95      1228\n",
            "   macro avg       0.47      0.50      0.49      1228\n",
            "weighted avg       0.90      0.95      0.92      1228\n",
            "\n"
          ]
        }
      ]
    },
    {
      "cell_type": "markdown",
      "source": [
        "**For model_2, Evaluating with GridSearch gives us a score of 0.9470684039087948 while Evaluating with Classification Report gives us an accuracy test score of 0.95**"
      ],
      "metadata": {
        "id": "mZtRgmCbxtR-"
      }
    },
    {
      "cell_type": "markdown",
      "source": [
        "## Perform PCA or another feature engineering technique on your dataset to see how this impacts your results. (We encourage you to try multiple techniques depending on your data!)."
      ],
      "metadata": {
        "id": "QJ7c6laE0nlV"
      }
    },
    {
      "cell_type": "code",
      "source": [
        "# Use PCA to lower the dimensions in this dataset while retaining 95% of the variance\n",
        "pca = PCA(n_components = .95)"
      ],
      "metadata": {
        "id": "AaZ235aV1tfI"
      },
      "execution_count": 101,
      "outputs": []
    },
    {
      "cell_type": "code",
      "source": [
        "%%time\n",
        "# Now we will build the pipeline\n",
        "model_2_pca_pipe = make_pipeline(scaler, pca, model_2)\n",
        "\n",
        "# fit the pipeline\n",
        "model_2_pca_pipe_param_grid = {'kneighborsclassifier__n_neighbors': range(1,10),\n",
        "              'kneighborsclassifier__p': range(1,5),\n",
        "              'kneighborsclassifier__weights': ['distance','uniform']}"
      ],
      "metadata": {
        "colab": {
          "base_uri": "https://localhost:8080/"
        },
        "id": "tN41zlLj013G",
        "outputId": "a86df732-643d-4c1c-da07-c1bf264dda59"
      },
      "execution_count": 102,
      "outputs": [
        {
          "output_type": "stream",
          "name": "stdout",
          "text": [
            "CPU times: user 138 µs, sys: 0 ns, total: 138 µs\n",
            "Wall time: 142 µs\n"
          ]
        }
      ]
    },
    {
      "cell_type": "code",
      "source": [
        "%%time\n",
        "# fitting\n",
        "model_2_pca_pipe_gs = GridSearchCV(model_2_pca_pipe, model_2_pca_pipe_param_grid)\n",
        "model_2_pca_pipe_gs.fit(X_train, y_train)\n",
        "\n",
        "best_model_2_pca_pipe = model_2_pca_pipe_gs.best_estimator_\n",
        "\n",
        "print('Best model_2_pca Parameters:')\n",
        "print(model_2_pca_pipe_gs.best_params_)\n",
        "print(f'Accuracy of best model_2 is: {best_model_2_pca_pipe.score(X_test, y_test)}')"
      ],
      "metadata": {
        "colab": {
          "base_uri": "https://localhost:8080/"
        },
        "id": "UwxyZs3Pm8xU",
        "outputId": "827d2419-1c30-4c3c-ccc9-4c90aa506b96"
      },
      "execution_count": 103,
      "outputs": [
        {
          "output_type": "stream",
          "name": "stdout",
          "text": [
            "Best model_2_pca Parameters:\n",
            "{'kneighborsclassifier__n_neighbors': 7, 'kneighborsclassifier__p': 1, 'kneighborsclassifier__weights': 'uniform'}\n",
            "Accuracy of best model_2 is: 0.9470684039087948\n",
            "CPU times: user 1min 21s, sys: 29 s, total: 1min 50s\n",
            "Wall time: 1min 18s\n"
          ]
        }
      ]
    },
    {
      "cell_type": "code",
      "source": [
        "# evaluate\n",
        "eval_classification (model_2_pca_pipe_gs, X_train, X_test, y_train, y_test)"
      ],
      "metadata": {
        "colab": {
          "base_uri": "https://localhost:8080/"
        },
        "id": "GvNJkHnJ3xEn",
        "outputId": "c02b2cdf-bf2b-44ef-f847-d21669eac4f5"
      },
      "execution_count": 104,
      "outputs": [
        {
          "output_type": "stream",
          "name": "stdout",
          "text": [
            "Train Report:               precision    recall  f1-score   support\n",
            "\n",
            "           0       0.96      1.00      0.98      3535\n",
            "           1       0.25      0.01      0.01       146\n",
            "\n",
            "    accuracy                           0.96      3681\n",
            "   macro avg       0.61      0.50      0.50      3681\n",
            "weighted avg       0.93      0.96      0.94      3681\n",
            "\n",
            "Test Report:               precision    recall  f1-score   support\n",
            "\n",
            "           0       0.95      1.00      0.97      1165\n",
            "           1       0.00      0.00      0.00        63\n",
            "\n",
            "    accuracy                           0.95      1228\n",
            "   macro avg       0.47      0.50      0.49      1228\n",
            "weighted avg       0.90      0.95      0.92      1228\n",
            "\n"
          ]
        }
      ]
    },
    {
      "cell_type": "markdown",
      "source": [
        "***Adding PCA definately impacted the speed when fiting the model, without the PCA we had a wall time of 2 mins 15 secs but with the PCA the wall time was 1 min 18 secs which was half the time of fitting a model without the PCA ***"
      ],
      "metadata": {
        "id": "tJNoJQu1pBbw"
      }
    },
    {
      "cell_type": "markdown",
      "source": [
        "**Even though we got the same accuracy score for the first model and model_2.For Production, I will have to select model_2 because it has concise parameter for tunning and adding PCA really helps in reducing the runtime**."
      ],
      "metadata": {
        "id": "Ksu7BpiDnKSf"
      }
    }
  ]
}