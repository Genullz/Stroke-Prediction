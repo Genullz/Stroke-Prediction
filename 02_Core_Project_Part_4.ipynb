{
  "nbformat": 4,
  "nbformat_minor": 0,
  "metadata": {
    "colab": {
      "provenance": [],
      "collapsed_sections": [
        "I_aOEH9RVgXG",
        "kbDZIqevqpNm"
      ],
      "mount_file_id": "1aZfX8yTlfB7yl2UeGVL9K-7ar0SaaU13",
      "authorship_tag": "ABX9TyNaMYJVX8tsa9s11ibqbSNd",
      "include_colab_link": true
    },
    "kernelspec": {
      "name": "python3",
      "display_name": "Python 3"
    },
    "language_info": {
      "name": "python"
    }
  },
  "cells": [
    {
      "cell_type": "markdown",
      "metadata": {
        "id": "view-in-github",
        "colab_type": "text"
      },
      "source": [
        "<a href=\"https://colab.research.google.com/github/Genullz/Stroke-Prediction/blob/main/02_Core_Project_Part_4.ipynb\" target=\"_parent\"><img src=\"https://colab.research.google.com/assets/colab-badge.svg\" alt=\"Open In Colab\"/></a>"
      ]
    },
    {
      "cell_type": "markdown",
      "source": [],
      "metadata": {
        "id": "PhYk8x5_yGPz"
      }
    },
    {
      "cell_type": "code",
      "execution_count": 2,
      "metadata": {
        "colab": {
          "base_uri": "https://localhost:8080/"
        },
        "id": "pNj6gACKx06h",
        "outputId": "b4a133ea-48bd-44b4-a2d2-2097c598d3cc"
      },
      "outputs": [
        {
          "output_type": "stream",
          "name": "stdout",
          "text": [
            "Drive already mounted at /content/drive; to attempt to forcibly remount, call drive.mount(\"/content/drive\", force_remount=True).\n"
          ]
        }
      ],
      "source": [
        "from google.colab import drive\n",
        "drive.mount('/content/drive')"
      ]
    },
    {
      "cell_type": "markdown",
      "source": [
        "Import the Packages"
      ],
      "metadata": {
        "id": "mCJbajP_2Mw1"
      }
    },
    {
      "cell_type": "code",
      "source": [
        "import matplotlib.pyplot as plt\n",
        "import pandas as pd\n",
        "import numpy as np\n",
        "from sklearn.model_selection import train_test_split\n",
        "from sklearn.compose import make_column_transformer, make_column_selector\n",
        "from sklearn.impute import SimpleImputer\n",
        "from sklearn.decomposition import PCA\n",
        "from sklearn.preprocessing import StandardScaler\n",
        "from sklearn.pipeline import make_pipeline\n",
        "from sklearn.preprocessing import OneHotEncoder\n",
        "from sklearn.linear_model import LogisticRegression\n",
        "from sklearn.metrics import accuracy_score, precision_score, recall_score, classification_report, ConfusionMatrixDisplay\n",
        "from sklearn.neighbors import KNeighborsClassifier\n",
        "from sklearn.ensemble import RandomForestClassifier\n",
        "import seaborn as sns\n",
        "from sklearn import set_config\n",
        "set_config(display='diagram')"
      ],
      "metadata": {
        "id": "YpkjW_pP1ws4"
      },
      "execution_count": 3,
      "outputs": []
    },
    {
      "cell_type": "markdown",
      "source": [
        "Load the Dataset"
      ],
      "metadata": {
        "id": "UKCniR5_2OQt"
      }
    },
    {
      "cell_type": "code",
      "source": [
        "path = ('/content/drive/MyDrive/Data Science Bootcamp/Core Project 02/healthcare-dataset-stroke-data.csv')\n",
        "df = pd.read_csv(path)\n",
        "df.head()"
      ],
      "metadata": {
        "colab": {
          "base_uri": "https://localhost:8080/",
          "height": 206
        },
        "id": "nE58tAjO2bzF",
        "outputId": "6ea6625b-132c-4954-cb35-879599839ae4"
      },
      "execution_count": 4,
      "outputs": [
        {
          "output_type": "execute_result",
          "data": {
            "text/plain": [
              "      id  gender   age  hypertension  heart_disease ever_married  \\\n",
              "0   9046    Male  67.0             0              1          Yes   \n",
              "1  51676  Female  61.0             0              0          Yes   \n",
              "2  31112    Male  80.0             0              1          Yes   \n",
              "3  60182  Female  49.0             0              0          Yes   \n",
              "4   1665  Female  79.0             1              0          Yes   \n",
              "\n",
              "       work_type Residence_type  avg_glucose_level   bmi   smoking_status  \\\n",
              "0        Private          Urban             228.69  36.6  formerly smoked   \n",
              "1  Self-employed          Rural             202.21   NaN     never smoked   \n",
              "2        Private          Rural             105.92  32.5     never smoked   \n",
              "3        Private          Urban             171.23  34.4           smokes   \n",
              "4  Self-employed          Rural             174.12  24.0     never smoked   \n",
              "\n",
              "   stroke  \n",
              "0       1  \n",
              "1       1  \n",
              "2       1  \n",
              "3       1  \n",
              "4       1  "
            ],
            "text/html": [
              "\n",
              "  <div id=\"df-72975613-10be-418f-a6d4-f1a0c7b7e1b9\">\n",
              "    <div class=\"colab-df-container\">\n",
              "      <div>\n",
              "<style scoped>\n",
              "    .dataframe tbody tr th:only-of-type {\n",
              "        vertical-align: middle;\n",
              "    }\n",
              "\n",
              "    .dataframe tbody tr th {\n",
              "        vertical-align: top;\n",
              "    }\n",
              "\n",
              "    .dataframe thead th {\n",
              "        text-align: right;\n",
              "    }\n",
              "</style>\n",
              "<table border=\"1\" class=\"dataframe\">\n",
              "  <thead>\n",
              "    <tr style=\"text-align: right;\">\n",
              "      <th></th>\n",
              "      <th>id</th>\n",
              "      <th>gender</th>\n",
              "      <th>age</th>\n",
              "      <th>hypertension</th>\n",
              "      <th>heart_disease</th>\n",
              "      <th>ever_married</th>\n",
              "      <th>work_type</th>\n",
              "      <th>Residence_type</th>\n",
              "      <th>avg_glucose_level</th>\n",
              "      <th>bmi</th>\n",
              "      <th>smoking_status</th>\n",
              "      <th>stroke</th>\n",
              "    </tr>\n",
              "  </thead>\n",
              "  <tbody>\n",
              "    <tr>\n",
              "      <th>0</th>\n",
              "      <td>9046</td>\n",
              "      <td>Male</td>\n",
              "      <td>67.0</td>\n",
              "      <td>0</td>\n",
              "      <td>1</td>\n",
              "      <td>Yes</td>\n",
              "      <td>Private</td>\n",
              "      <td>Urban</td>\n",
              "      <td>228.69</td>\n",
              "      <td>36.6</td>\n",
              "      <td>formerly smoked</td>\n",
              "      <td>1</td>\n",
              "    </tr>\n",
              "    <tr>\n",
              "      <th>1</th>\n",
              "      <td>51676</td>\n",
              "      <td>Female</td>\n",
              "      <td>61.0</td>\n",
              "      <td>0</td>\n",
              "      <td>0</td>\n",
              "      <td>Yes</td>\n",
              "      <td>Self-employed</td>\n",
              "      <td>Rural</td>\n",
              "      <td>202.21</td>\n",
              "      <td>NaN</td>\n",
              "      <td>never smoked</td>\n",
              "      <td>1</td>\n",
              "    </tr>\n",
              "    <tr>\n",
              "      <th>2</th>\n",
              "      <td>31112</td>\n",
              "      <td>Male</td>\n",
              "      <td>80.0</td>\n",
              "      <td>0</td>\n",
              "      <td>1</td>\n",
              "      <td>Yes</td>\n",
              "      <td>Private</td>\n",
              "      <td>Rural</td>\n",
              "      <td>105.92</td>\n",
              "      <td>32.5</td>\n",
              "      <td>never smoked</td>\n",
              "      <td>1</td>\n",
              "    </tr>\n",
              "    <tr>\n",
              "      <th>3</th>\n",
              "      <td>60182</td>\n",
              "      <td>Female</td>\n",
              "      <td>49.0</td>\n",
              "      <td>0</td>\n",
              "      <td>0</td>\n",
              "      <td>Yes</td>\n",
              "      <td>Private</td>\n",
              "      <td>Urban</td>\n",
              "      <td>171.23</td>\n",
              "      <td>34.4</td>\n",
              "      <td>smokes</td>\n",
              "      <td>1</td>\n",
              "    </tr>\n",
              "    <tr>\n",
              "      <th>4</th>\n",
              "      <td>1665</td>\n",
              "      <td>Female</td>\n",
              "      <td>79.0</td>\n",
              "      <td>1</td>\n",
              "      <td>0</td>\n",
              "      <td>Yes</td>\n",
              "      <td>Self-employed</td>\n",
              "      <td>Rural</td>\n",
              "      <td>174.12</td>\n",
              "      <td>24.0</td>\n",
              "      <td>never smoked</td>\n",
              "      <td>1</td>\n",
              "    </tr>\n",
              "  </tbody>\n",
              "</table>\n",
              "</div>\n",
              "      <button class=\"colab-df-convert\" onclick=\"convertToInteractive('df-72975613-10be-418f-a6d4-f1a0c7b7e1b9')\"\n",
              "              title=\"Convert this dataframe to an interactive table.\"\n",
              "              style=\"display:none;\">\n",
              "        \n",
              "  <svg xmlns=\"http://www.w3.org/2000/svg\" height=\"24px\"viewBox=\"0 0 24 24\"\n",
              "       width=\"24px\">\n",
              "    <path d=\"M0 0h24v24H0V0z\" fill=\"none\"/>\n",
              "    <path d=\"M18.56 5.44l.94 2.06.94-2.06 2.06-.94-2.06-.94-.94-2.06-.94 2.06-2.06.94zm-11 1L8.5 8.5l.94-2.06 2.06-.94-2.06-.94L8.5 2.5l-.94 2.06-2.06.94zm10 10l.94 2.06.94-2.06 2.06-.94-2.06-.94-.94-2.06-.94 2.06-2.06.94z\"/><path d=\"M17.41 7.96l-1.37-1.37c-.4-.4-.92-.59-1.43-.59-.52 0-1.04.2-1.43.59L10.3 9.45l-7.72 7.72c-.78.78-.78 2.05 0 2.83L4 21.41c.39.39.9.59 1.41.59.51 0 1.02-.2 1.41-.59l7.78-7.78 2.81-2.81c.8-.78.8-2.07 0-2.86zM5.41 20L4 18.59l7.72-7.72 1.47 1.35L5.41 20z\"/>\n",
              "  </svg>\n",
              "      </button>\n",
              "      \n",
              "  <style>\n",
              "    .colab-df-container {\n",
              "      display:flex;\n",
              "      flex-wrap:wrap;\n",
              "      gap: 12px;\n",
              "    }\n",
              "\n",
              "    .colab-df-convert {\n",
              "      background-color: #E8F0FE;\n",
              "      border: none;\n",
              "      border-radius: 50%;\n",
              "      cursor: pointer;\n",
              "      display: none;\n",
              "      fill: #1967D2;\n",
              "      height: 32px;\n",
              "      padding: 0 0 0 0;\n",
              "      width: 32px;\n",
              "    }\n",
              "\n",
              "    .colab-df-convert:hover {\n",
              "      background-color: #E2EBFA;\n",
              "      box-shadow: 0px 1px 2px rgba(60, 64, 67, 0.3), 0px 1px 3px 1px rgba(60, 64, 67, 0.15);\n",
              "      fill: #174EA6;\n",
              "    }\n",
              "\n",
              "    [theme=dark] .colab-df-convert {\n",
              "      background-color: #3B4455;\n",
              "      fill: #D2E3FC;\n",
              "    }\n",
              "\n",
              "    [theme=dark] .colab-df-convert:hover {\n",
              "      background-color: #434B5C;\n",
              "      box-shadow: 0px 1px 3px 1px rgba(0, 0, 0, 0.15);\n",
              "      filter: drop-shadow(0px 1px 2px rgba(0, 0, 0, 0.3));\n",
              "      fill: #FFFFFF;\n",
              "    }\n",
              "  </style>\n",
              "\n",
              "      <script>\n",
              "        const buttonEl =\n",
              "          document.querySelector('#df-72975613-10be-418f-a6d4-f1a0c7b7e1b9 button.colab-df-convert');\n",
              "        buttonEl.style.display =\n",
              "          google.colab.kernel.accessAllowed ? 'block' : 'none';\n",
              "\n",
              "        async function convertToInteractive(key) {\n",
              "          const element = document.querySelector('#df-72975613-10be-418f-a6d4-f1a0c7b7e1b9');\n",
              "          const dataTable =\n",
              "            await google.colab.kernel.invokeFunction('convertToInteractive',\n",
              "                                                     [key], {});\n",
              "          if (!dataTable) return;\n",
              "\n",
              "          const docLinkHtml = 'Like what you see? Visit the ' +\n",
              "            '<a target=\"_blank\" href=https://colab.research.google.com/notebooks/data_table.ipynb>data table notebook</a>'\n",
              "            + ' to learn more about interactive tables.';\n",
              "          element.innerHTML = '';\n",
              "          dataTable['output_type'] = 'display_data';\n",
              "          await google.colab.output.renderOutput(dataTable, element);\n",
              "          const docLink = document.createElement('div');\n",
              "          docLink.innerHTML = docLinkHtml;\n",
              "          element.appendChild(docLink);\n",
              "        }\n",
              "      </script>\n",
              "    </div>\n",
              "  </div>\n",
              "  "
            ]
          },
          "metadata": {},
          "execution_count": 4
        }
      ]
    },
    {
      "cell_type": "code",
      "source": [
        "df.info()"
      ],
      "metadata": {
        "colab": {
          "base_uri": "https://localhost:8080/"
        },
        "id": "5-ll3Cw_2ZvU",
        "outputId": "7dc0dc47-c0c7-4c7a-deab-cf0a20247422"
      },
      "execution_count": 5,
      "outputs": [
        {
          "output_type": "stream",
          "name": "stdout",
          "text": [
            "<class 'pandas.core.frame.DataFrame'>\n",
            "RangeIndex: 5110 entries, 0 to 5109\n",
            "Data columns (total 12 columns):\n",
            " #   Column             Non-Null Count  Dtype  \n",
            "---  ------             --------------  -----  \n",
            " 0   id                 5110 non-null   int64  \n",
            " 1   gender             5110 non-null   object \n",
            " 2   age                5110 non-null   float64\n",
            " 3   hypertension       5110 non-null   int64  \n",
            " 4   heart_disease      5110 non-null   int64  \n",
            " 5   ever_married       5110 non-null   object \n",
            " 6   work_type          5110 non-null   object \n",
            " 7   Residence_type     5110 non-null   object \n",
            " 8   avg_glucose_level  5110 non-null   float64\n",
            " 9   bmi                4909 non-null   float64\n",
            " 10  smoking_status     5110 non-null   object \n",
            " 11  stroke             5110 non-null   int64  \n",
            "dtypes: float64(3), int64(4), object(5)\n",
            "memory usage: 479.2+ KB\n"
          ]
        }
      ]
    },
    {
      "cell_type": "code",
      "source": [
        "# check for duplicates\n",
        "df.duplicated().sum()"
      ],
      "metadata": {
        "colab": {
          "base_uri": "https://localhost:8080/"
        },
        "id": "E3E4Dz5H2XEs",
        "outputId": "774a1ec3-5290-4e95-fd9b-28e7d79ac06c"
      },
      "execution_count": 6,
      "outputs": [
        {
          "output_type": "execute_result",
          "data": {
            "text/plain": [
              "0"
            ]
          },
          "metadata": {},
          "execution_count": 6
        }
      ]
    },
    {
      "cell_type": "code",
      "source": [
        "# Check for Missing Values\n",
        "df.isna().sum()"
      ],
      "metadata": {
        "colab": {
          "base_uri": "https://localhost:8080/"
        },
        "id": "_rSLEXUc2WLq",
        "outputId": "574bda21-cf0e-495c-c8d6-a7dff3961f9a"
      },
      "execution_count": 7,
      "outputs": [
        {
          "output_type": "execute_result",
          "data": {
            "text/plain": [
              "id                     0\n",
              "gender                 0\n",
              "age                    0\n",
              "hypertension           0\n",
              "heart_disease          0\n",
              "ever_married           0\n",
              "work_type              0\n",
              "Residence_type         0\n",
              "avg_glucose_level      0\n",
              "bmi                  201\n",
              "smoking_status         0\n",
              "stroke                 0\n",
              "dtype: int64"
            ]
          },
          "metadata": {},
          "execution_count": 7
        }
      ]
    },
    {
      "cell_type": "markdown",
      "source": [
        "Address inconsistent Values"
      ],
      "metadata": {
        "id": "JATG-rkNp0gB"
      }
    },
    {
      "cell_type": "code",
      "source": [
        "# Change the age column from an object to an integer\n",
        "df['age'] = df['age'].astype(float)"
      ],
      "metadata": {
        "id": "VjwGCl0TdDur"
      },
      "execution_count": 8,
      "outputs": []
    },
    {
      "cell_type": "code",
      "source": [
        "# encoding the smoking status column\n",
        "df['smoking_status'].replace({'Unknown':0, 'smokes':1, 'formerly smoked':2, 'never smoked':3}, inplace=True)"
      ],
      "metadata": {
        "id": "W5jvJQgtRJ8k"
      },
      "execution_count": 9,
      "outputs": []
    },
    {
      "cell_type": "code",
      "source": [
        "# encoding the residence type column\n",
        "df['Residence_type'].replace({'Rural': 0, 'Urban': 1}, inplace=True)"
      ],
      "metadata": {
        "id": "HwNmEbifSVyB"
      },
      "execution_count": 10,
      "outputs": []
    },
    {
      "cell_type": "code",
      "source": [
        "# encoding the work type column\n",
        "df['work_type'].replace({'children': 0, 'Self-employed': 1, 'Private': 2, 'Govt_job': 3, 'Never_worked': 4}, inplace=True)"
      ],
      "metadata": {
        "id": "Kw8x67BiSZvq"
      },
      "execution_count": 11,
      "outputs": []
    },
    {
      "cell_type": "code",
      "source": [
        "# encoding the gender column\n",
        "df['gender'].replace({'Female': 0, 'Male': 1, 'Other': 2}, inplace=True)"
      ],
      "metadata": {
        "id": "IxwEoS-oTyhW"
      },
      "execution_count": 12,
      "outputs": []
    },
    {
      "cell_type": "code",
      "source": [
        "# encoding the ever_married column\n",
        "df['ever_married'].replace({'No': 0, 'Yes': 1}, inplace=True)"
      ],
      "metadata": {
        "id": "D7JzNMLzUXkK"
      },
      "execution_count": 13,
      "outputs": []
    },
    {
      "cell_type": "code",
      "source": [
        "df.dropna(subset=['bmi'], inplace=True)\n",
        "df.isna().sum()"
      ],
      "metadata": {
        "colab": {
          "base_uri": "https://localhost:8080/"
        },
        "id": "kWlP_rY559NU",
        "outputId": "43525f9c-05ea-461a-bf4b-e8f54cc732eb"
      },
      "execution_count": 14,
      "outputs": [
        {
          "output_type": "execute_result",
          "data": {
            "text/plain": [
              "id                   0\n",
              "gender               0\n",
              "age                  0\n",
              "hypertension         0\n",
              "heart_disease        0\n",
              "ever_married         0\n",
              "work_type            0\n",
              "Residence_type       0\n",
              "avg_glucose_level    0\n",
              "bmi                  0\n",
              "smoking_status       0\n",
              "stroke               0\n",
              "dtype: int64"
            ]
          },
          "metadata": {},
          "execution_count": 14
        }
      ]
    },
    {
      "cell_type": "code",
      "source": [
        "df.info()"
      ],
      "metadata": {
        "colab": {
          "base_uri": "https://localhost:8080/"
        },
        "id": "IA3mvRuViDoY",
        "outputId": "b2552806-1496-420e-acce-12047f6c3fe8"
      },
      "execution_count": 15,
      "outputs": [
        {
          "output_type": "stream",
          "name": "stdout",
          "text": [
            "<class 'pandas.core.frame.DataFrame'>\n",
            "Int64Index: 4909 entries, 0 to 5109\n",
            "Data columns (total 12 columns):\n",
            " #   Column             Non-Null Count  Dtype  \n",
            "---  ------             --------------  -----  \n",
            " 0   id                 4909 non-null   int64  \n",
            " 1   gender             4909 non-null   int64  \n",
            " 2   age                4909 non-null   float64\n",
            " 3   hypertension       4909 non-null   int64  \n",
            " 4   heart_disease      4909 non-null   int64  \n",
            " 5   ever_married       4909 non-null   int64  \n",
            " 6   work_type          4909 non-null   int64  \n",
            " 7   Residence_type     4909 non-null   int64  \n",
            " 8   avg_glucose_level  4909 non-null   float64\n",
            " 9   bmi                4909 non-null   float64\n",
            " 10  smoking_status     4909 non-null   int64  \n",
            " 11  stroke             4909 non-null   int64  \n",
            "dtypes: float64(3), int64(9)\n",
            "memory usage: 498.6 KB\n"
          ]
        }
      ]
    },
    {
      "cell_type": "markdown",
      "source": [
        "##Prepare the dataset"
      ],
      "metadata": {
        "id": "I_aOEH9RVgXG"
      }
    },
    {
      "cell_type": "code",
      "source": [
        "#identify\n",
        "X = df.drop(columns='stroke', axis=1)\n",
        "y = df['stroke']\n",
        "# Train Test Split\n",
        "X_train, X_test, y_train, y_test = train_test_split(X, y, random_state = 42)"
      ],
      "metadata": {
        "id": "Om_m3dVwXX3i"
      },
      "execution_count": 16,
      "outputs": []
    },
    {
      "cell_type": "code",
      "source": [
        "#instantiate SimpleImputers with most_frequent and mean strategies\n",
        "mean_imputer = SimpleImputer(strategy='mean')\n",
        "scaler = StandardScaler()"
      ],
      "metadata": {
        "id": "C5S5E1AMXgo-"
      },
      "execution_count": 17,
      "outputs": []
    },
    {
      "cell_type": "code",
      "source": [
        "cat_selector = make_column_selector(dtype_include='object')\n",
        "num_selector = make_column_selector(dtype_include = 'number')"
      ],
      "metadata": {
        "id": "bSInMy8PeuaI"
      },
      "execution_count": 18,
      "outputs": []
    },
    {
      "cell_type": "code",
      "source": [
        "# make pipeline\n",
        "num_pipe = make_pipeline(mean_imputer, scaler)"
      ],
      "metadata": {
        "id": "erWYzMLheTs5"
      },
      "execution_count": 19,
      "outputs": []
    },
    {
      "cell_type": "code",
      "source": [
        "# create tuples of (imputer, selector) for each datatype\n",
        "num_tuple = (num_pipe, num_selector)"
      ],
      "metadata": {
        "id": "XdLsvU47fFaU"
      },
      "execution_count": 20,
      "outputs": []
    },
    {
      "cell_type": "code",
      "source": [
        "preprocessor = make_column_transformer(num_tuple, remainder='drop')\n",
        "preprocessor"
      ],
      "metadata": {
        "colab": {
          "base_uri": "https://localhost:8080/",
          "height": 0
        },
        "id": "Wdet0k6KfQxk",
        "outputId": "bd79341d-f098-4d38-82ba-f46506fde5ce"
      },
      "execution_count": 21,
      "outputs": [
        {
          "output_type": "execute_result",
          "data": {
            "text/plain": [
              "ColumnTransformer(transformers=[('pipeline',\n",
              "                                 Pipeline(steps=[('simpleimputer',\n",
              "                                                  SimpleImputer()),\n",
              "                                                 ('standardscaler',\n",
              "                                                  StandardScaler())]),\n",
              "                                 <sklearn.compose._column_transformer.make_column_selector object at 0x7f5b4a8b0e90>)])"
            ],
            "text/html": [
              "<style>#sk-b8219cd4-eb9f-4107-be2b-426bd738fc2c {color: black;background-color: white;}#sk-b8219cd4-eb9f-4107-be2b-426bd738fc2c pre{padding: 0;}#sk-b8219cd4-eb9f-4107-be2b-426bd738fc2c div.sk-toggleable {background-color: white;}#sk-b8219cd4-eb9f-4107-be2b-426bd738fc2c label.sk-toggleable__label {cursor: pointer;display: block;width: 100%;margin-bottom: 0;padding: 0.3em;box-sizing: border-box;text-align: center;}#sk-b8219cd4-eb9f-4107-be2b-426bd738fc2c label.sk-toggleable__label-arrow:before {content: \"▸\";float: left;margin-right: 0.25em;color: #696969;}#sk-b8219cd4-eb9f-4107-be2b-426bd738fc2c label.sk-toggleable__label-arrow:hover:before {color: black;}#sk-b8219cd4-eb9f-4107-be2b-426bd738fc2c div.sk-estimator:hover label.sk-toggleable__label-arrow:before {color: black;}#sk-b8219cd4-eb9f-4107-be2b-426bd738fc2c div.sk-toggleable__content {max-height: 0;max-width: 0;overflow: hidden;text-align: left;background-color: #f0f8ff;}#sk-b8219cd4-eb9f-4107-be2b-426bd738fc2c div.sk-toggleable__content pre {margin: 0.2em;color: black;border-radius: 0.25em;background-color: #f0f8ff;}#sk-b8219cd4-eb9f-4107-be2b-426bd738fc2c input.sk-toggleable__control:checked~div.sk-toggleable__content {max-height: 200px;max-width: 100%;overflow: auto;}#sk-b8219cd4-eb9f-4107-be2b-426bd738fc2c input.sk-toggleable__control:checked~label.sk-toggleable__label-arrow:before {content: \"▾\";}#sk-b8219cd4-eb9f-4107-be2b-426bd738fc2c div.sk-estimator input.sk-toggleable__control:checked~label.sk-toggleable__label {background-color: #d4ebff;}#sk-b8219cd4-eb9f-4107-be2b-426bd738fc2c div.sk-label input.sk-toggleable__control:checked~label.sk-toggleable__label {background-color: #d4ebff;}#sk-b8219cd4-eb9f-4107-be2b-426bd738fc2c input.sk-hidden--visually {border: 0;clip: rect(1px 1px 1px 1px);clip: rect(1px, 1px, 1px, 1px);height: 1px;margin: -1px;overflow: hidden;padding: 0;position: absolute;width: 1px;}#sk-b8219cd4-eb9f-4107-be2b-426bd738fc2c div.sk-estimator {font-family: monospace;background-color: #f0f8ff;border: 1px dotted black;border-radius: 0.25em;box-sizing: border-box;margin-bottom: 0.5em;}#sk-b8219cd4-eb9f-4107-be2b-426bd738fc2c div.sk-estimator:hover {background-color: #d4ebff;}#sk-b8219cd4-eb9f-4107-be2b-426bd738fc2c div.sk-parallel-item::after {content: \"\";width: 100%;border-bottom: 1px solid gray;flex-grow: 1;}#sk-b8219cd4-eb9f-4107-be2b-426bd738fc2c div.sk-label:hover label.sk-toggleable__label {background-color: #d4ebff;}#sk-b8219cd4-eb9f-4107-be2b-426bd738fc2c div.sk-serial::before {content: \"\";position: absolute;border-left: 1px solid gray;box-sizing: border-box;top: 2em;bottom: 0;left: 50%;}#sk-b8219cd4-eb9f-4107-be2b-426bd738fc2c div.sk-serial {display: flex;flex-direction: column;align-items: center;background-color: white;padding-right: 0.2em;padding-left: 0.2em;}#sk-b8219cd4-eb9f-4107-be2b-426bd738fc2c div.sk-item {z-index: 1;}#sk-b8219cd4-eb9f-4107-be2b-426bd738fc2c div.sk-parallel {display: flex;align-items: stretch;justify-content: center;background-color: white;}#sk-b8219cd4-eb9f-4107-be2b-426bd738fc2c div.sk-parallel::before {content: \"\";position: absolute;border-left: 1px solid gray;box-sizing: border-box;top: 2em;bottom: 0;left: 50%;}#sk-b8219cd4-eb9f-4107-be2b-426bd738fc2c div.sk-parallel-item {display: flex;flex-direction: column;position: relative;background-color: white;}#sk-b8219cd4-eb9f-4107-be2b-426bd738fc2c div.sk-parallel-item:first-child::after {align-self: flex-end;width: 50%;}#sk-b8219cd4-eb9f-4107-be2b-426bd738fc2c div.sk-parallel-item:last-child::after {align-self: flex-start;width: 50%;}#sk-b8219cd4-eb9f-4107-be2b-426bd738fc2c div.sk-parallel-item:only-child::after {width: 0;}#sk-b8219cd4-eb9f-4107-be2b-426bd738fc2c div.sk-dashed-wrapped {border: 1px dashed gray;margin: 0 0.4em 0.5em 0.4em;box-sizing: border-box;padding-bottom: 0.4em;background-color: white;position: relative;}#sk-b8219cd4-eb9f-4107-be2b-426bd738fc2c div.sk-label label {font-family: monospace;font-weight: bold;background-color: white;display: inline-block;line-height: 1.2em;}#sk-b8219cd4-eb9f-4107-be2b-426bd738fc2c div.sk-label-container {position: relative;z-index: 2;text-align: center;}#sk-b8219cd4-eb9f-4107-be2b-426bd738fc2c div.sk-container {/* jupyter's `normalize.less` sets `[hidden] { display: none; }` but bootstrap.min.css set `[hidden] { display: none !important; }` so we also need the `!important` here to be able to override the default hidden behavior on the sphinx rendered scikit-learn.org. See: https://github.com/scikit-learn/scikit-learn/issues/21755 */display: inline-block !important;position: relative;}#sk-b8219cd4-eb9f-4107-be2b-426bd738fc2c div.sk-text-repr-fallback {display: none;}</style><div id=\"sk-b8219cd4-eb9f-4107-be2b-426bd738fc2c\" class=\"sk-top-container\"><div class=\"sk-text-repr-fallback\"><pre>ColumnTransformer(transformers=[(&#x27;pipeline&#x27;,\n",
              "                                 Pipeline(steps=[(&#x27;simpleimputer&#x27;,\n",
              "                                                  SimpleImputer()),\n",
              "                                                 (&#x27;standardscaler&#x27;,\n",
              "                                                  StandardScaler())]),\n",
              "                                 &lt;sklearn.compose._column_transformer.make_column_selector object at 0x7f5b4a8b0e90&gt;)])</pre><b>Please rerun this cell to show the HTML repr or trust the notebook.</b></div><div class=\"sk-container\" hidden><div class=\"sk-item sk-dashed-wrapped\"><div class=\"sk-label-container\"><div class=\"sk-label sk-toggleable\"><input class=\"sk-toggleable__control sk-hidden--visually\" id=\"e15a0f9e-78e4-4983-85d8-ca5263c4d25a\" type=\"checkbox\" ><label for=\"e15a0f9e-78e4-4983-85d8-ca5263c4d25a\" class=\"sk-toggleable__label sk-toggleable__label-arrow\">ColumnTransformer</label><div class=\"sk-toggleable__content\"><pre>ColumnTransformer(transformers=[(&#x27;pipeline&#x27;,\n",
              "                                 Pipeline(steps=[(&#x27;simpleimputer&#x27;,\n",
              "                                                  SimpleImputer()),\n",
              "                                                 (&#x27;standardscaler&#x27;,\n",
              "                                                  StandardScaler())]),\n",
              "                                 &lt;sklearn.compose._column_transformer.make_column_selector object at 0x7f5b4a8b0e90&gt;)])</pre></div></div></div><div class=\"sk-parallel\"><div class=\"sk-parallel-item\"><div class=\"sk-item\"><div class=\"sk-label-container\"><div class=\"sk-label sk-toggleable\"><input class=\"sk-toggleable__control sk-hidden--visually\" id=\"5343488b-3a76-4b02-988e-5fbbec4a0597\" type=\"checkbox\" ><label for=\"5343488b-3a76-4b02-988e-5fbbec4a0597\" class=\"sk-toggleable__label sk-toggleable__label-arrow\">pipeline</label><div class=\"sk-toggleable__content\"><pre>&lt;sklearn.compose._column_transformer.make_column_selector object at 0x7f5b4a8b0e90&gt;</pre></div></div></div><div class=\"sk-serial\"><div class=\"sk-item\"><div class=\"sk-serial\"><div class=\"sk-item\"><div class=\"sk-estimator sk-toggleable\"><input class=\"sk-toggleable__control sk-hidden--visually\" id=\"2e71c655-85ca-4a7b-9df0-3c401132f693\" type=\"checkbox\" ><label for=\"2e71c655-85ca-4a7b-9df0-3c401132f693\" class=\"sk-toggleable__label sk-toggleable__label-arrow\">SimpleImputer</label><div class=\"sk-toggleable__content\"><pre>SimpleImputer()</pre></div></div></div><div class=\"sk-item\"><div class=\"sk-estimator sk-toggleable\"><input class=\"sk-toggleable__control sk-hidden--visually\" id=\"b50ec65f-5c0e-4d8f-9c6f-4bb9300d9b37\" type=\"checkbox\" ><label for=\"b50ec65f-5c0e-4d8f-9c6f-4bb9300d9b37\" class=\"sk-toggleable__label sk-toggleable__label-arrow\">StandardScaler</label><div class=\"sk-toggleable__content\"><pre>StandardScaler()</pre></div></div></div></div></div></div></div></div></div></div></div></div>"
            ]
          },
          "metadata": {},
          "execution_count": 21
        }
      ]
    },
    {
      "cell_type": "code",
      "source": [
        "# fit ColumnTransformer on the training data\n",
        "preprocessor.fit(X_train, y_train)\n",
        "\n",
        "# transform both the training and testing data (this will output a NumPy array)\n",
        "X_train_imputed = preprocessor.transform(X_train)\n",
        "X_test_imputed = preprocessor.transform(X_test)"
      ],
      "metadata": {
        "id": "rX2PrV15k2xW"
      },
      "execution_count": 22,
      "outputs": []
    },
    {
      "cell_type": "code",
      "source": [
        "X_train_imputed"
      ],
      "metadata": {
        "colab": {
          "base_uri": "https://localhost:8080/"
        },
        "id": "nVKG_ln50Pnv",
        "outputId": "7ef750e5-fa98-4d84-c055-88cc68d59ff8"
      },
      "execution_count": 23,
      "outputs": [
        {
          "output_type": "execute_result",
          "data": {
            "text/plain": [
              "array([[ 1.11037092, -0.82698222, -0.52064637, ..., -0.03879792,\n",
              "        -1.06922118,  0.29069877],\n",
              "       [ 1.34266975,  1.2064991 , -1.81017863, ..., -0.9564555 ,\n",
              "         0.07450419, -1.29457851],\n",
              "       [ 1.12139223, -0.82698222,  0.76888589, ...,  0.20472213,\n",
              "         0.19016181, -0.50193987],\n",
              "       ...,\n",
              "       [ 1.28638068, -0.82698222,  0.45761948, ..., -0.32993867,\n",
              "        -0.86360763,  0.29069877],\n",
              "       [-1.38413346, -0.82698222, -1.40997896, ..., -0.26539118,\n",
              "        -1.03066864, -1.29457851],\n",
              "       [ 1.44559833,  1.2064991 ,  0.90228578, ..., -1.07088059,\n",
              "        -0.00260089,  0.29069877]])"
            ]
          },
          "metadata": {},
          "execution_count": 23
        }
      ]
    },
    {
      "cell_type": "markdown",
      "source": [
        "##Creating multivariate (multiple variables) exploratory visualizations to further understand your data and search for trends"
      ],
      "metadata": {
        "id": "kbDZIqevqpNm"
      }
    },
    {
      "cell_type": "code",
      "source": [
        "corr = df.corr()"
      ],
      "metadata": {
        "id": "eV4YQRL_o2-_"
      },
      "execution_count": 24,
      "outputs": []
    },
    {
      "cell_type": "code",
      "source": [
        "# the heatmap\n",
        "sns.heatmap(corr, cmap = 'Oranges', annot = True);"
      ],
      "metadata": {
        "colab": {
          "base_uri": "https://localhost:8080/",
          "height": 0
        },
        "id": "MrQtJAKAq1Et",
        "outputId": "9192fa5b-ed0e-4971-c466-e3beb4ddfead"
      },
      "execution_count": 25,
      "outputs": [
        {
          "output_type": "display_data",
          "data": {
            "text/plain": [
              "<Figure size 432x288 with 2 Axes>"
            ],
            "image/png": "[encoded data removed]"
          },
          "metadata": {
            "needs_background": "light"
          }
        }
      ]
    },
    {
      "cell_type": "markdown",
      "source": [
        "The is a moderate correlation between a age and marital status in this dataset with value of 0.68."
      ],
      "metadata": {
        "id": "q8RQbgDMr8Cj"
      }
    },
    {
      "cell_type": "code",
      "source": [
        "# boxplot\n",
        "sns.boxplot(data=df, x='age');\n",
        "plt.xticks(rotation = 45);"
      ],
      "metadata": {
        "colab": {
          "base_uri": "https://localhost:8080/",
          "height": 0
        },
        "id": "ZplTcXE9sZa2",
        "outputId": "4a4c726f-de10-4580-c32e-c532b1a27c97"
      },
      "execution_count": 26,
      "outputs": [
        {
          "output_type": "display_data",
          "data": {
            "text/plain": [
              "<Figure size 432x288 with 1 Axes>"
            ],
            "image/png": "[encoded data removed]"
          },
          "metadata": {
            "needs_background": "light"
          }
        }
      ]
    },
    {
      "cell_type": "markdown",
      "source": [
        "The average mean of age of the patient in our dataset is 45."
      ],
      "metadata": {
        "id": "BGtMFczw77AJ"
      }
    },
    {
      "cell_type": "code",
      "source": [
        "## patient's age\n",
        "plt.style.use('seaborn')\n",
        "df['age'].hist(bins = 30, edgecolor='black')\n",
        "plt.xticks(rotation = 45)\n",
        "plt.ticklabel_format(useOffset=False, style='plain')"
      ],
      "metadata": {
        "colab": {
          "base_uri": "https://localhost:8080/",
          "height": 0
        },
        "id": "5A5ipXzZNFMv",
        "outputId": "812e09e7-1a68-4ecc-d369-d7afdaa31e6d"
      },
      "execution_count": 27,
      "outputs": [
        {
          "output_type": "display_data",
          "data": {
            "text/plain": [
              "<Figure size 576x396 with 1 Axes>"
            ],
            "image/png": "[encoded data removed]"
          },
          "metadata": {}
        }
      ]
    },
    {
      "cell_type": "markdown",
      "source": [
        "This Histogram shows the age range among potential stroke patients"
      ],
      "metadata": {
        "id": "PfNh2wBRNlmj"
      }
    },
    {
      "cell_type": "markdown",
      "source": [
        "##Try multiple models and tune the hyperparameters of each model to optimize model performance (include all models and hyperparameters tested in addition to the final model)."
      ],
      "metadata": {
        "id": "xruRHH-0qo2P"
      }
    },
    {
      "cell_type": "code",
      "source": [
        "def eval_classification(model, X_train, X_test, y_train, y_test):\n",
        "  print('Train Report:', classification_report(y_train, model.predict(X_train)))\n",
        "  print('Test Report:', classification_report(y_test, model.predict(X_test)))\n"
      ],
      "metadata": {
        "id": "qUs7WPq1wuEp"
      },
      "execution_count": 28,
      "outputs": []
    },
    {
      "cell_type": "code",
      "source": [
        "# Make an instance of the model with default parameters\n",
        "logreg = LogisticRegression()"
      ],
      "metadata": {
        "id": "RixqezsIPymb"
      },
      "execution_count": 29,
      "outputs": []
    },
    {
      "cell_type": "code",
      "source": [
        "# Put scaler and model in a pipeline\n",
        "logreg_pipe = make_pipeline(scaler, logreg)\n",
        "logreg_pipe"
      ],
      "metadata": {
        "colab": {
          "base_uri": "https://localhost:8080/",
          "height": 127
        },
        "id": "ecKZ8lbXQDSH",
        "outputId": "48b4d6cf-7ba7-4ded-8cec-105f209d91be"
      },
      "execution_count": 30,
      "outputs": [
        {
          "output_type": "execute_result",
          "data": {
            "text/plain": [
              "Pipeline(steps=[('standardscaler', StandardScaler()),\n",
              "                ('logisticregression', LogisticRegression())])"
            ],
            "text/html": [
              "<style>#sk-bac972be-2e83-4755-b55c-f55170a43360 {color: black;background-color: white;}#sk-bac972be-2e83-4755-b55c-f55170a43360 pre{padding: 0;}#sk-bac972be-2e83-4755-b55c-f55170a43360 div.sk-toggleable {background-color: white;}#sk-bac972be-2e83-4755-b55c-f55170a43360 label.sk-toggleable__label {cursor: pointer;display: block;width: 100%;margin-bottom: 0;padding: 0.3em;box-sizing: border-box;text-align: center;}#sk-bac972be-2e83-4755-b55c-f55170a43360 label.sk-toggleable__label-arrow:before {content: \"▸\";float: left;margin-right: 0.25em;color: #696969;}#sk-bac972be-2e83-4755-b55c-f55170a43360 label.sk-toggleable__label-arrow:hover:before {color: black;}#sk-bac972be-2e83-4755-b55c-f55170a43360 div.sk-estimator:hover label.sk-toggleable__label-arrow:before {color: black;}#sk-bac972be-2e83-4755-b55c-f55170a43360 div.sk-toggleable__content {max-height: 0;max-width: 0;overflow: hidden;text-align: left;background-color: #f0f8ff;}#sk-bac972be-2e83-4755-b55c-f55170a43360 div.sk-toggleable__content pre {margin: 0.2em;color: black;border-radius: 0.25em;background-color: #f0f8ff;}#sk-bac972be-2e83-4755-b55c-f55170a43360 input.sk-toggleable__control:checked~div.sk-toggleable__content {max-height: 200px;max-width: 100%;overflow: auto;}#sk-bac972be-2e83-4755-b55c-f55170a43360 input.sk-toggleable__control:checked~label.sk-toggleable__label-arrow:before {content: \"▾\";}#sk-bac972be-2e83-4755-b55c-f55170a43360 div.sk-estimator input.sk-toggleable__control:checked~label.sk-toggleable__label {background-color: #d4ebff;}#sk-bac972be-2e83-4755-b55c-f55170a43360 div.sk-label input.sk-toggleable__control:checked~label.sk-toggleable__label {background-color: #d4ebff;}#sk-bac972be-2e83-4755-b55c-f55170a43360 input.sk-hidden--visually {border: 0;clip: rect(1px 1px 1px 1px);clip: rect(1px, 1px, 1px, 1px);height: 1px;margin: -1px;overflow: hidden;padding: 0;position: absolute;width: 1px;}#sk-bac972be-2e83-4755-b55c-f55170a43360 div.sk-estimator {font-family: monospace;background-color: #f0f8ff;border: 1px dotted black;border-radius: 0.25em;box-sizing: border-box;margin-bottom: 0.5em;}#sk-bac972be-2e83-4755-b55c-f55170a43360 div.sk-estimator:hover {background-color: #d4ebff;}#sk-bac972be-2e83-4755-b55c-f55170a43360 div.sk-parallel-item::after {content: \"\";width: 100%;border-bottom: 1px solid gray;flex-grow: 1;}#sk-bac972be-2e83-4755-b55c-f55170a43360 div.sk-label:hover label.sk-toggleable__label {background-color: #d4ebff;}#sk-bac972be-2e83-4755-b55c-f55170a43360 div.sk-serial::before {content: \"\";position: absolute;border-left: 1px solid gray;box-sizing: border-box;top: 2em;bottom: 0;left: 50%;}#sk-bac972be-2e83-4755-b55c-f55170a43360 div.sk-serial {display: flex;flex-direction: column;align-items: center;background-color: white;padding-right: 0.2em;padding-left: 0.2em;}#sk-bac972be-2e83-4755-b55c-f55170a43360 div.sk-item {z-index: 1;}#sk-bac972be-2e83-4755-b55c-f55170a43360 div.sk-parallel {display: flex;align-items: stretch;justify-content: center;background-color: white;}#sk-bac972be-2e83-4755-b55c-f55170a43360 div.sk-parallel::before {content: \"\";position: absolute;border-left: 1px solid gray;box-sizing: border-box;top: 2em;bottom: 0;left: 50%;}#sk-bac972be-2e83-4755-b55c-f55170a43360 div.sk-parallel-item {display: flex;flex-direction: column;position: relative;background-color: white;}#sk-bac972be-2e83-4755-b55c-f55170a43360 div.sk-parallel-item:first-child::after {align-self: flex-end;width: 50%;}#sk-bac972be-2e83-4755-b55c-f55170a43360 div.sk-parallel-item:last-child::after {align-self: flex-start;width: 50%;}#sk-bac972be-2e83-4755-b55c-f55170a43360 div.sk-parallel-item:only-child::after {width: 0;}#sk-bac972be-2e83-4755-b55c-f55170a43360 div.sk-dashed-wrapped {border: 1px dashed gray;margin: 0 0.4em 0.5em 0.4em;box-sizing: border-box;padding-bottom: 0.4em;background-color: white;position: relative;}#sk-bac972be-2e83-4755-b55c-f55170a43360 div.sk-label label {font-family: monospace;font-weight: bold;background-color: white;display: inline-block;line-height: 1.2em;}#sk-bac972be-2e83-4755-b55c-f55170a43360 div.sk-label-container {position: relative;z-index: 2;text-align: center;}#sk-bac972be-2e83-4755-b55c-f55170a43360 div.sk-container {/* jupyter's `normalize.less` sets `[hidden] { display: none; }` but bootstrap.min.css set `[hidden] { display: none !important; }` so we also need the `!important` here to be able to override the default hidden behavior on the sphinx rendered scikit-learn.org. See: https://github.com/scikit-learn/scikit-learn/issues/21755 */display: inline-block !important;position: relative;}#sk-bac972be-2e83-4755-b55c-f55170a43360 div.sk-text-repr-fallback {display: none;}</style><div id=\"sk-bac972be-2e83-4755-b55c-f55170a43360\" class=\"sk-top-container\"><div class=\"sk-text-repr-fallback\"><pre>Pipeline(steps=[(&#x27;standardscaler&#x27;, StandardScaler()),\n",
              "                (&#x27;logisticregression&#x27;, LogisticRegression())])</pre><b>Please rerun this cell to show the HTML repr or trust the notebook.</b></div><div class=\"sk-container\" hidden><div class=\"sk-item sk-dashed-wrapped\"><div class=\"sk-label-container\"><div class=\"sk-label sk-toggleable\"><input class=\"sk-toggleable__control sk-hidden--visually\" id=\"5240fa22-c173-4014-8cd7-37b6d0504869\" type=\"checkbox\" ><label for=\"5240fa22-c173-4014-8cd7-37b6d0504869\" class=\"sk-toggleable__label sk-toggleable__label-arrow\">Pipeline</label><div class=\"sk-toggleable__content\"><pre>Pipeline(steps=[(&#x27;standardscaler&#x27;, StandardScaler()),\n",
              "                (&#x27;logisticregression&#x27;, LogisticRegression())])</pre></div></div></div><div class=\"sk-serial\"><div class=\"sk-item\"><div class=\"sk-estimator sk-toggleable\"><input class=\"sk-toggleable__control sk-hidden--visually\" id=\"629a5981-e6cd-459d-95a4-3d39b765d915\" type=\"checkbox\" ><label for=\"629a5981-e6cd-459d-95a4-3d39b765d915\" class=\"sk-toggleable__label sk-toggleable__label-arrow\">StandardScaler</label><div class=\"sk-toggleable__content\"><pre>StandardScaler()</pre></div></div></div><div class=\"sk-item\"><div class=\"sk-estimator sk-toggleable\"><input class=\"sk-toggleable__control sk-hidden--visually\" id=\"3c305eb1-51c3-4269-8039-48053b46e9f0\" type=\"checkbox\" ><label for=\"3c305eb1-51c3-4269-8039-48053b46e9f0\" class=\"sk-toggleable__label sk-toggleable__label-arrow\">LogisticRegression</label><div class=\"sk-toggleable__content\"><pre>LogisticRegression()</pre></div></div></div></div></div></div></div>"
            ]
          },
          "metadata": {},
          "execution_count": 30
        }
      ]
    },
    {
      "cell_type": "code",
      "source": [
        "#fit the model\n",
        "logreg_pipe.fit(X_train, y_train)\n",
        "print(logreg_pipe.score(X_train, y_train))\n",
        "print(logreg_pipe.score(X_test, y_test))"
      ],
      "metadata": {
        "colab": {
          "base_uri": "https://localhost:8080/"
        },
        "id": "OuFogW1eQXzK",
        "outputId": "fe99b872-599d-4c08-d6d3-232827370e38"
      },
      "execution_count": 31,
      "outputs": [
        {
          "output_type": "stream",
          "name": "stdout",
          "text": [
            "0.9603368649823417\n",
            "0.9486970684039088\n"
          ]
        }
      ]
    },
    {
      "cell_type": "code",
      "source": [
        "# Prediction\n",
        "logreg_pred = logreg_pipe.predict(X_test)\n",
        "logreg_pred"
      ],
      "metadata": {
        "colab": {
          "base_uri": "https://localhost:8080/"
        },
        "id": "feVVxkh4i1pK",
        "outputId": "cd797e3f-9dbf-442f-e6f9-6e2186c1cc72"
      },
      "execution_count": 32,
      "outputs": [
        {
          "output_type": "execute_result",
          "data": {
            "text/plain": [
              "array([0, 0, 0, ..., 0, 0, 0])"
            ]
          },
          "metadata": {},
          "execution_count": 32
        }
      ]
    },
    {
      "cell_type": "code",
      "source": [
        "# evaluate\n",
        "eval_classification (logreg_pipe, X_train, X_test, y_train, y_test)"
      ],
      "metadata": {
        "colab": {
          "base_uri": "https://localhost:8080/"
        },
        "id": "selKXpfOqIHM",
        "outputId": "fc5dd30e-6a7f-442c-a54b-9e1576e182ca"
      },
      "execution_count": 33,
      "outputs": [
        {
          "output_type": "stream",
          "name": "stdout",
          "text": [
            "Train Report:               precision    recall  f1-score   support\n",
            "\n",
            "           0       0.96      1.00      0.98      3535\n",
            "           1       0.00      0.00      0.00       146\n",
            "\n",
            "    accuracy                           0.96      3681\n",
            "   macro avg       0.48      0.50      0.49      3681\n",
            "weighted avg       0.92      0.96      0.94      3681\n",
            "\n",
            "Test Report:               precision    recall  f1-score   support\n",
            "\n",
            "           0       0.95      1.00      0.97      1165\n",
            "           1       0.00      0.00      0.00        63\n",
            "\n",
            "    accuracy                           0.95      1228\n",
            "   macro avg       0.47      0.50      0.49      1228\n",
            "weighted avg       0.90      0.95      0.92      1228\n",
            "\n"
          ]
        },
        {
          "output_type": "stream",
          "name": "stderr",
          "text": [
            "/usr/local/lib/python3.7/dist-packages/sklearn/metrics/_classification.py:1318: UndefinedMetricWarning: Precision and F-score are ill-defined and being set to 0.0 in labels with no predicted samples. Use `zero_division` parameter to control this behavior.\n",
            "  _warn_prf(average, modifier, msg_start, len(result))\n",
            "/usr/local/lib/python3.7/dist-packages/sklearn/metrics/_classification.py:1318: UndefinedMetricWarning: Precision and F-score are ill-defined and being set to 0.0 in labels with no predicted samples. Use `zero_division` parameter to control this behavior.\n",
            "  _warn_prf(average, modifier, msg_start, len(result))\n",
            "/usr/local/lib/python3.7/dist-packages/sklearn/metrics/_classification.py:1318: UndefinedMetricWarning: Precision and F-score are ill-defined and being set to 0.0 in labels with no predicted samples. Use `zero_division` parameter to control this behavior.\n",
            "  _warn_prf(average, modifier, msg_start, len(result))\n",
            "/usr/local/lib/python3.7/dist-packages/sklearn/metrics/_classification.py:1318: UndefinedMetricWarning: Precision and F-score are ill-defined and being set to 0.0 in labels with no predicted samples. Use `zero_division` parameter to control this behavior.\n",
            "  _warn_prf(average, modifier, msg_start, len(result))\n",
            "/usr/local/lib/python3.7/dist-packages/sklearn/metrics/_classification.py:1318: UndefinedMetricWarning: Precision and F-score are ill-defined and being set to 0.0 in labels with no predicted samples. Use `zero_division` parameter to control this behavior.\n",
            "  _warn_prf(average, modifier, msg_start, len(result))\n",
            "/usr/local/lib/python3.7/dist-packages/sklearn/metrics/_classification.py:1318: UndefinedMetricWarning: Precision and F-score are ill-defined and being set to 0.0 in labels with no predicted samples. Use `zero_division` parameter to control this behavior.\n",
            "  _warn_prf(average, modifier, msg_start, len(result))\n"
          ]
        }
      ]
    },
    {
      "cell_type": "markdown",
      "source": [
        "Tuning hyperparameters to affect the model results."
      ],
      "metadata": {
        "id": "mXw7QmPcrtVw"
      }
    },
    {
      "cell_type": "code",
      "source": [
        "# create a list of c values and empty lists for scores\n",
        "c_values = [0.0001, 0.001, 0.01, 0.1, 1, 10, 100, 1000]\n",
        "train_scores = []\n",
        "test_scores = []\n",
        "\n",
        "#iterative over the c values\n",
        "for c in c_values:\n",
        "# instantiate a model with each value of c and fit it on the data\n",
        "  logreg = LogisticRegression (C=c, max_iter=1000, solver='liblinear', penalty='l1')\n",
        "  logreg_pipe = make_pipeline(scaler, logreg)\n",
        "  logreg_pipe.fit(X_train, y_train)\n",
        "# add the training and testing scores to our scores lists\n",
        "  train_scores.append(logreg_pipe.score(X_train, y_train))\n",
        "  test_scores.append(logreg_pipe.score(X_test, y_test))\n",
        "\n",
        "#plot the change in accuracy as we change the value of C\n",
        "fig, ax = plt.subplots(1,1)\n",
        "ax.plot(c_values, train_scores, label='Training Accuracy')\n",
        "ax.plot(c_values, test_scores, label='Testing Accuracy')\n",
        "ax.set_xticks(c_values)\n",
        "ax.set_title('Change in accuracy over C values for l1 regularization')\n",
        "ax.legend()"
      ],
      "metadata": {
        "colab": {
          "base_uri": "https://localhost:8080/",
          "height": 380
        },
        "id": "yBNVR4QBp7rM",
        "outputId": "a801fb44-2632-4dc1-b5d3-50b5b771efc2"
      },
      "execution_count": 34,
      "outputs": [
        {
          "output_type": "execute_result",
          "data": {
            "text/plain": [
              "<matplotlib.legend.Legend at 0x7f5b45e97190>"
            ]
          },
          "metadata": {},
          "execution_count": 34
        },
        {
          "output_type": "display_data",
          "data": {
            "text/plain": [
              "<Figure size 576x396 with 1 Axes>"
            ],
            "image/png": "[encoded data removed]"
          },
          "metadata": {}
        }
      ]
    },
    {
      "cell_type": "code",
      "source": [
        "#set the x axis to a logarithmic scale to show the values of C in even intervals\n",
        "ax.set_xscale('log')\n",
        "# print a dictionary of values of C and accuracy scores\n",
        "{c:score for c, score in zip(c_values, test_scores)}"
      ],
      "metadata": {
        "colab": {
          "base_uri": "https://localhost:8080/"
        },
        "id": "a1yq_JEFsar4",
        "outputId": "a9304814-3a00-457e-afc2-74e8383253ac"
      },
      "execution_count": 35,
      "outputs": [
        {
          "output_type": "execute_result",
          "data": {
            "text/plain": [
              "{0.0001: 0.9486970684039088,\n",
              " 0.001: 0.9486970684039088,\n",
              " 0.01: 0.9486970684039088,\n",
              " 0.1: 0.9486970684039088,\n",
              " 1: 0.9486970684039088,\n",
              " 10: 0.9486970684039088,\n",
              " 100: 0.9486970684039088,\n",
              " 1000: 0.9486970684039088}"
            ]
          },
          "metadata": {},
          "execution_count": 35
        }
      ]
    },
    {
      "cell_type": "markdown",
      "source": [
        "2nd Model"
      ],
      "metadata": {
        "id": "zdaVUflIuy4h"
      }
    },
    {
      "cell_type": "code",
      "source": [
        "# Make an instance of the model with default parameters\n",
        "knn = KNeighborsClassifier(n_neighbors=2)"
      ],
      "metadata": {
        "id": "KPFcAHmYsVff"
      },
      "execution_count": 36,
      "outputs": []
    },
    {
      "cell_type": "code",
      "source": [
        "# look for tunable hyperparameters\n",
        "knn.get_params()"
      ],
      "metadata": {
        "colab": {
          "base_uri": "https://localhost:8080/"
        },
        "id": "XqTkQ0Ze18UO",
        "outputId": "2f589294-27c7-444e-a2bf-f99eecb07bb0"
      },
      "execution_count": 37,
      "outputs": [
        {
          "output_type": "execute_result",
          "data": {
            "text/plain": [
              "{'algorithm': 'auto',\n",
              " 'leaf_size': 30,\n",
              " 'metric': 'minkowski',\n",
              " 'metric_params': None,\n",
              " 'n_jobs': None,\n",
              " 'n_neighbors': 2,\n",
              " 'p': 2,\n",
              " 'weights': 'uniform'}"
            ]
          },
          "metadata": {},
          "execution_count": 37
        }
      ]
    },
    {
      "cell_type": "code",
      "source": [
        "%%time\n",
        "# fitting\n",
        "knn_pipe = make_pipeline(scaler, knn)\n",
        "knn_pipe.fit(X_train, y_train)"
      ],
      "metadata": {
        "colab": {
          "base_uri": "https://localhost:8080/",
          "height": 164
        },
        "id": "ez0DvJnF3beH",
        "outputId": "22ad41e3-8842-4c4f-e7e7-9d56588ab8a3"
      },
      "execution_count": 38,
      "outputs": [
        {
          "output_type": "stream",
          "name": "stdout",
          "text": [
            "CPU times: user 13.8 ms, sys: 1.9 ms, total: 15.7 ms\n",
            "Wall time: 16.2 ms\n"
          ]
        },
        {
          "output_type": "execute_result",
          "data": {
            "text/plain": [
              "Pipeline(steps=[('standardscaler', StandardScaler()),\n",
              "                ('kneighborsclassifier', KNeighborsClassifier(n_neighbors=2))])"
            ],
            "text/html": [
              "<style>#sk-d92dd8f2-e38a-46f7-a502-ddd88de90b2b {color: black;background-color: white;}#sk-d92dd8f2-e38a-46f7-a502-ddd88de90b2b pre{padding: 0;}#sk-d92dd8f2-e38a-46f7-a502-ddd88de90b2b div.sk-toggleable {background-color: white;}#sk-d92dd8f2-e38a-46f7-a502-ddd88de90b2b label.sk-toggleable__label {cursor: pointer;display: block;width: 100%;margin-bottom: 0;padding: 0.3em;box-sizing: border-box;text-align: center;}#sk-d92dd8f2-e38a-46f7-a502-ddd88de90b2b label.sk-toggleable__label-arrow:before {content: \"▸\";float: left;margin-right: 0.25em;color: #696969;}#sk-d92dd8f2-e38a-46f7-a502-ddd88de90b2b label.sk-toggleable__label-arrow:hover:before {color: black;}#sk-d92dd8f2-e38a-46f7-a502-ddd88de90b2b div.sk-estimator:hover label.sk-toggleable__label-arrow:before {color: black;}#sk-d92dd8f2-e38a-46f7-a502-ddd88de90b2b div.sk-toggleable__content {max-height: 0;max-width: 0;overflow: hidden;text-align: left;background-color: #f0f8ff;}#sk-d92dd8f2-e38a-46f7-a502-ddd88de90b2b div.sk-toggleable__content pre {margin: 0.2em;color: black;border-radius: 0.25em;background-color: #f0f8ff;}#sk-d92dd8f2-e38a-46f7-a502-ddd88de90b2b input.sk-toggleable__control:checked~div.sk-toggleable__content {max-height: 200px;max-width: 100%;overflow: auto;}#sk-d92dd8f2-e38a-46f7-a502-ddd88de90b2b input.sk-toggleable__control:checked~label.sk-toggleable__label-arrow:before {content: \"▾\";}#sk-d92dd8f2-e38a-46f7-a502-ddd88de90b2b div.sk-estimator input.sk-toggleable__control:checked~label.sk-toggleable__label {background-color: #d4ebff;}#sk-d92dd8f2-e38a-46f7-a502-ddd88de90b2b div.sk-label input.sk-toggleable__control:checked~label.sk-toggleable__label {background-color: #d4ebff;}#sk-d92dd8f2-e38a-46f7-a502-ddd88de90b2b input.sk-hidden--visually {border: 0;clip: rect(1px 1px 1px 1px);clip: rect(1px, 1px, 1px, 1px);height: 1px;margin: -1px;overflow: hidden;padding: 0;position: absolute;width: 1px;}#sk-d92dd8f2-e38a-46f7-a502-ddd88de90b2b div.sk-estimator {font-family: monospace;background-color: #f0f8ff;border: 1px dotted black;border-radius: 0.25em;box-sizing: border-box;margin-bottom: 0.5em;}#sk-d92dd8f2-e38a-46f7-a502-ddd88de90b2b div.sk-estimator:hover {background-color: #d4ebff;}#sk-d92dd8f2-e38a-46f7-a502-ddd88de90b2b div.sk-parallel-item::after {content: \"\";width: 100%;border-bottom: 1px solid gray;flex-grow: 1;}#sk-d92dd8f2-e38a-46f7-a502-ddd88de90b2b div.sk-label:hover label.sk-toggleable__label {background-color: #d4ebff;}#sk-d92dd8f2-e38a-46f7-a502-ddd88de90b2b div.sk-serial::before {content: \"\";position: absolute;border-left: 1px solid gray;box-sizing: border-box;top: 2em;bottom: 0;left: 50%;}#sk-d92dd8f2-e38a-46f7-a502-ddd88de90b2b div.sk-serial {display: flex;flex-direction: column;align-items: center;background-color: white;padding-right: 0.2em;padding-left: 0.2em;}#sk-d92dd8f2-e38a-46f7-a502-ddd88de90b2b div.sk-item {z-index: 1;}#sk-d92dd8f2-e38a-46f7-a502-ddd88de90b2b div.sk-parallel {display: flex;align-items: stretch;justify-content: center;background-color: white;}#sk-d92dd8f2-e38a-46f7-a502-ddd88de90b2b div.sk-parallel::before {content: \"\";position: absolute;border-left: 1px solid gray;box-sizing: border-box;top: 2em;bottom: 0;left: 50%;}#sk-d92dd8f2-e38a-46f7-a502-ddd88de90b2b div.sk-parallel-item {display: flex;flex-direction: column;position: relative;background-color: white;}#sk-d92dd8f2-e38a-46f7-a502-ddd88de90b2b div.sk-parallel-item:first-child::after {align-self: flex-end;width: 50%;}#sk-d92dd8f2-e38a-46f7-a502-ddd88de90b2b div.sk-parallel-item:last-child::after {align-self: flex-start;width: 50%;}#sk-d92dd8f2-e38a-46f7-a502-ddd88de90b2b div.sk-parallel-item:only-child::after {width: 0;}#sk-d92dd8f2-e38a-46f7-a502-ddd88de90b2b div.sk-dashed-wrapped {border: 1px dashed gray;margin: 0 0.4em 0.5em 0.4em;box-sizing: border-box;padding-bottom: 0.4em;background-color: white;position: relative;}#sk-d92dd8f2-e38a-46f7-a502-ddd88de90b2b div.sk-label label {font-family: monospace;font-weight: bold;background-color: white;display: inline-block;line-height: 1.2em;}#sk-d92dd8f2-e38a-46f7-a502-ddd88de90b2b div.sk-label-container {position: relative;z-index: 2;text-align: center;}#sk-d92dd8f2-e38a-46f7-a502-ddd88de90b2b div.sk-container {/* jupyter's `normalize.less` sets `[hidden] { display: none; }` but bootstrap.min.css set `[hidden] { display: none !important; }` so we also need the `!important` here to be able to override the default hidden behavior on the sphinx rendered scikit-learn.org. See: https://github.com/scikit-learn/scikit-learn/issues/21755 */display: inline-block !important;position: relative;}#sk-d92dd8f2-e38a-46f7-a502-ddd88de90b2b div.sk-text-repr-fallback {display: none;}</style><div id=\"sk-d92dd8f2-e38a-46f7-a502-ddd88de90b2b\" class=\"sk-top-container\"><div class=\"sk-text-repr-fallback\"><pre>Pipeline(steps=[(&#x27;standardscaler&#x27;, StandardScaler()),\n",
              "                (&#x27;kneighborsclassifier&#x27;, KNeighborsClassifier(n_neighbors=2))])</pre><b>Please rerun this cell to show the HTML repr or trust the notebook.</b></div><div class=\"sk-container\" hidden><div class=\"sk-item sk-dashed-wrapped\"><div class=\"sk-label-container\"><div class=\"sk-label sk-toggleable\"><input class=\"sk-toggleable__control sk-hidden--visually\" id=\"b2d17b52-c839-414f-9fa9-bcd47a25ef1b\" type=\"checkbox\" ><label for=\"b2d17b52-c839-414f-9fa9-bcd47a25ef1b\" class=\"sk-toggleable__label sk-toggleable__label-arrow\">Pipeline</label><div class=\"sk-toggleable__content\"><pre>Pipeline(steps=[(&#x27;standardscaler&#x27;, StandardScaler()),\n",
              "                (&#x27;kneighborsclassifier&#x27;, KNeighborsClassifier(n_neighbors=2))])</pre></div></div></div><div class=\"sk-serial\"><div class=\"sk-item\"><div class=\"sk-estimator sk-toggleable\"><input class=\"sk-toggleable__control sk-hidden--visually\" id=\"5b57f1e2-291a-4974-a17e-1ac5c0684552\" type=\"checkbox\" ><label for=\"5b57f1e2-291a-4974-a17e-1ac5c0684552\" class=\"sk-toggleable__label sk-toggleable__label-arrow\">StandardScaler</label><div class=\"sk-toggleable__content\"><pre>StandardScaler()</pre></div></div></div><div class=\"sk-item\"><div class=\"sk-estimator sk-toggleable\"><input class=\"sk-toggleable__control sk-hidden--visually\" id=\"eab452fa-35ae-4cbe-8f15-720fa35e8eff\" type=\"checkbox\" ><label for=\"eab452fa-35ae-4cbe-8f15-720fa35e8eff\" class=\"sk-toggleable__label sk-toggleable__label-arrow\">KNeighborsClassifier</label><div class=\"sk-toggleable__content\"><pre>KNeighborsClassifier(n_neighbors=2)</pre></div></div></div></div></div></div></div>"
            ]
          },
          "metadata": {},
          "execution_count": 38
        }
      ]
    },
    {
      "cell_type": "code",
      "source": [
        "# Prediction\n",
        "knn_pred = knn_pipe.predict(X_test)\n",
        "knn_pred"
      ],
      "metadata": {
        "colab": {
          "base_uri": "https://localhost:8080/"
        },
        "id": "-CApoVoJ8NuR",
        "outputId": "c9dfe69b-0023-4abc-e33f-0c9709db0b14"
      },
      "execution_count": 39,
      "outputs": [
        {
          "output_type": "execute_result",
          "data": {
            "text/plain": [
              "array([0, 0, 0, ..., 0, 0, 0])"
            ]
          },
          "metadata": {},
          "execution_count": 39
        }
      ]
    },
    {
      "cell_type": "markdown",
      "source": [
        "Evaluate and compare the models"
      ],
      "metadata": {
        "id": "mZtRgmCbxtR-"
      }
    },
    {
      "cell_type": "code",
      "source": [
        "# evaluate\n",
        "eval_classification (knn_pipe, X_train, X_test, y_train, y_test)"
      ],
      "metadata": {
        "colab": {
          "base_uri": "https://localhost:8080/"
        },
        "id": "IB4LrDS6xaFl",
        "outputId": "d3c36bd5-7a54-4050-92a5-20d81bf32827"
      },
      "execution_count": 40,
      "outputs": [
        {
          "output_type": "stream",
          "name": "stdout",
          "text": [
            "Train Report:               precision    recall  f1-score   support\n",
            "\n",
            "           0       0.96      1.00      0.98      3535\n",
            "           1       1.00      0.07      0.13       146\n",
            "\n",
            "    accuracy                           0.96      3681\n",
            "   macro avg       0.98      0.53      0.55      3681\n",
            "weighted avg       0.96      0.96      0.95      3681\n",
            "\n",
            "Test Report:               precision    recall  f1-score   support\n",
            "\n",
            "           0       0.95      1.00      0.97      1165\n",
            "           1       0.25      0.02      0.03        63\n",
            "\n",
            "    accuracy                           0.95      1228\n",
            "   macro avg       0.60      0.51      0.50      1228\n",
            "weighted avg       0.91      0.95      0.92      1228\n",
            "\n"
          ]
        }
      ]
    },
    {
      "cell_type": "markdown",
      "source": [
        "Perform PCA or another feature engineering technique on your dataset to see how this impacts your results. (We encourage you to try multiple techniques depending on your data!)."
      ],
      "metadata": {
        "id": "QJ7c6laE0nlV"
      }
    },
    {
      "cell_type": "code",
      "source": [
        "# Use PCA to lower the dimensions in this dataset while retaining 95% of the variance\n",
        "pca = PCA(n_components = .95)"
      ],
      "metadata": {
        "id": "AaZ235aV1tfI"
      },
      "execution_count": 41,
      "outputs": []
    },
    {
      "cell_type": "code",
      "source": [
        "%%time\n",
        "# Now we will build the pipeline\n",
        "knn_pca_pipe = make_pipeline(scaler, pca, knn)\n",
        "\n",
        "# fit the pipeline\n",
        "knn_pca_pipe.fit(X_train, y_train)"
      ],
      "metadata": {
        "colab": {
          "base_uri": "https://localhost:8080/",
          "height": 199
        },
        "id": "tN41zlLj013G",
        "outputId": "59a153b8-a698-4555-c94d-c117a3aeca5f"
      },
      "execution_count": 42,
      "outputs": [
        {
          "output_type": "stream",
          "name": "stdout",
          "text": [
            "CPU times: user 19.8 ms, sys: 5.02 ms, total: 24.8 ms\n",
            "Wall time: 38.4 ms\n"
          ]
        },
        {
          "output_type": "execute_result",
          "data": {
            "text/plain": [
              "Pipeline(steps=[('standardscaler', StandardScaler()),\n",
              "                ('pca', PCA(n_components=0.95)),\n",
              "                ('kneighborsclassifier', KNeighborsClassifier(n_neighbors=2))])"
            ],
            "text/html": [
              "<style>#sk-7b006a5a-43a9-4273-adc5-9e7278b98073 {color: black;background-color: white;}#sk-7b006a5a-43a9-4273-adc5-9e7278b98073 pre{padding: 0;}#sk-7b006a5a-43a9-4273-adc5-9e7278b98073 div.sk-toggleable {background-color: white;}#sk-7b006a5a-43a9-4273-adc5-9e7278b98073 label.sk-toggleable__label {cursor: pointer;display: block;width: 100%;margin-bottom: 0;padding: 0.3em;box-sizing: border-box;text-align: center;}#sk-7b006a5a-43a9-4273-adc5-9e7278b98073 label.sk-toggleable__label-arrow:before {content: \"▸\";float: left;margin-right: 0.25em;color: #696969;}#sk-7b006a5a-43a9-4273-adc5-9e7278b98073 label.sk-toggleable__label-arrow:hover:before {color: black;}#sk-7b006a5a-43a9-4273-adc5-9e7278b98073 div.sk-estimator:hover label.sk-toggleable__label-arrow:before {color: black;}#sk-7b006a5a-43a9-4273-adc5-9e7278b98073 div.sk-toggleable__content {max-height: 0;max-width: 0;overflow: hidden;text-align: left;background-color: #f0f8ff;}#sk-7b006a5a-43a9-4273-adc5-9e7278b98073 div.sk-toggleable__content pre {margin: 0.2em;color: black;border-radius: 0.25em;background-color: #f0f8ff;}#sk-7b006a5a-43a9-4273-adc5-9e7278b98073 input.sk-toggleable__control:checked~div.sk-toggleable__content {max-height: 200px;max-width: 100%;overflow: auto;}#sk-7b006a5a-43a9-4273-adc5-9e7278b98073 input.sk-toggleable__control:checked~label.sk-toggleable__label-arrow:before {content: \"▾\";}#sk-7b006a5a-43a9-4273-adc5-9e7278b98073 div.sk-estimator input.sk-toggleable__control:checked~label.sk-toggleable__label {background-color: #d4ebff;}#sk-7b006a5a-43a9-4273-adc5-9e7278b98073 div.sk-label input.sk-toggleable__control:checked~label.sk-toggleable__label {background-color: #d4ebff;}#sk-7b006a5a-43a9-4273-adc5-9e7278b98073 input.sk-hidden--visually {border: 0;clip: rect(1px 1px 1px 1px);clip: rect(1px, 1px, 1px, 1px);height: 1px;margin: -1px;overflow: hidden;padding: 0;position: absolute;width: 1px;}#sk-7b006a5a-43a9-4273-adc5-9e7278b98073 div.sk-estimator {font-family: monospace;background-color: #f0f8ff;border: 1px dotted black;border-radius: 0.25em;box-sizing: border-box;margin-bottom: 0.5em;}#sk-7b006a5a-43a9-4273-adc5-9e7278b98073 div.sk-estimator:hover {background-color: #d4ebff;}#sk-7b006a5a-43a9-4273-adc5-9e7278b98073 div.sk-parallel-item::after {content: \"\";width: 100%;border-bottom: 1px solid gray;flex-grow: 1;}#sk-7b006a5a-43a9-4273-adc5-9e7278b98073 div.sk-label:hover label.sk-toggleable__label {background-color: #d4ebff;}#sk-7b006a5a-43a9-4273-adc5-9e7278b98073 div.sk-serial::before {content: \"\";position: absolute;border-left: 1px solid gray;box-sizing: border-box;top: 2em;bottom: 0;left: 50%;}#sk-7b006a5a-43a9-4273-adc5-9e7278b98073 div.sk-serial {display: flex;flex-direction: column;align-items: center;background-color: white;padding-right: 0.2em;padding-left: 0.2em;}#sk-7b006a5a-43a9-4273-adc5-9e7278b98073 div.sk-item {z-index: 1;}#sk-7b006a5a-43a9-4273-adc5-9e7278b98073 div.sk-parallel {display: flex;align-items: stretch;justify-content: center;background-color: white;}#sk-7b006a5a-43a9-4273-adc5-9e7278b98073 div.sk-parallel::before {content: \"\";position: absolute;border-left: 1px solid gray;box-sizing: border-box;top: 2em;bottom: 0;left: 50%;}#sk-7b006a5a-43a9-4273-adc5-9e7278b98073 div.sk-parallel-item {display: flex;flex-direction: column;position: relative;background-color: white;}#sk-7b006a5a-43a9-4273-adc5-9e7278b98073 div.sk-parallel-item:first-child::after {align-self: flex-end;width: 50%;}#sk-7b006a5a-43a9-4273-adc5-9e7278b98073 div.sk-parallel-item:last-child::after {align-self: flex-start;width: 50%;}#sk-7b006a5a-43a9-4273-adc5-9e7278b98073 div.sk-parallel-item:only-child::after {width: 0;}#sk-7b006a5a-43a9-4273-adc5-9e7278b98073 div.sk-dashed-wrapped {border: 1px dashed gray;margin: 0 0.4em 0.5em 0.4em;box-sizing: border-box;padding-bottom: 0.4em;background-color: white;position: relative;}#sk-7b006a5a-43a9-4273-adc5-9e7278b98073 div.sk-label label {font-family: monospace;font-weight: bold;background-color: white;display: inline-block;line-height: 1.2em;}#sk-7b006a5a-43a9-4273-adc5-9e7278b98073 div.sk-label-container {position: relative;z-index: 2;text-align: center;}#sk-7b006a5a-43a9-4273-adc5-9e7278b98073 div.sk-container {/* jupyter's `normalize.less` sets `[hidden] { display: none; }` but bootstrap.min.css set `[hidden] { display: none !important; }` so we also need the `!important` here to be able to override the default hidden behavior on the sphinx rendered scikit-learn.org. See: https://github.com/scikit-learn/scikit-learn/issues/21755 */display: inline-block !important;position: relative;}#sk-7b006a5a-43a9-4273-adc5-9e7278b98073 div.sk-text-repr-fallback {display: none;}</style><div id=\"sk-7b006a5a-43a9-4273-adc5-9e7278b98073\" class=\"sk-top-container\"><div class=\"sk-text-repr-fallback\"><pre>Pipeline(steps=[(&#x27;standardscaler&#x27;, StandardScaler()),\n",
              "                (&#x27;pca&#x27;, PCA(n_components=0.95)),\n",
              "                (&#x27;kneighborsclassifier&#x27;, KNeighborsClassifier(n_neighbors=2))])</pre><b>Please rerun this cell to show the HTML repr or trust the notebook.</b></div><div class=\"sk-container\" hidden><div class=\"sk-item sk-dashed-wrapped\"><div class=\"sk-label-container\"><div class=\"sk-label sk-toggleable\"><input class=\"sk-toggleable__control sk-hidden--visually\" id=\"3e5c8f6a-acc5-48be-9256-ff878e9b5ef6\" type=\"checkbox\" ><label for=\"3e5c8f6a-acc5-48be-9256-ff878e9b5ef6\" class=\"sk-toggleable__label sk-toggleable__label-arrow\">Pipeline</label><div class=\"sk-toggleable__content\"><pre>Pipeline(steps=[(&#x27;standardscaler&#x27;, StandardScaler()),\n",
              "                (&#x27;pca&#x27;, PCA(n_components=0.95)),\n",
              "                (&#x27;kneighborsclassifier&#x27;, KNeighborsClassifier(n_neighbors=2))])</pre></div></div></div><div class=\"sk-serial\"><div class=\"sk-item\"><div class=\"sk-estimator sk-toggleable\"><input class=\"sk-toggleable__control sk-hidden--visually\" id=\"22eb1fa1-cc41-4bf8-aaef-a328cbe14947\" type=\"checkbox\" ><label for=\"22eb1fa1-cc41-4bf8-aaef-a328cbe14947\" class=\"sk-toggleable__label sk-toggleable__label-arrow\">StandardScaler</label><div class=\"sk-toggleable__content\"><pre>StandardScaler()</pre></div></div></div><div class=\"sk-item\"><div class=\"sk-estimator sk-toggleable\"><input class=\"sk-toggleable__control sk-hidden--visually\" id=\"cea04ddb-aab2-4f16-9333-17ce9f117450\" type=\"checkbox\" ><label for=\"cea04ddb-aab2-4f16-9333-17ce9f117450\" class=\"sk-toggleable__label sk-toggleable__label-arrow\">PCA</label><div class=\"sk-toggleable__content\"><pre>PCA(n_components=0.95)</pre></div></div></div><div class=\"sk-item\"><div class=\"sk-estimator sk-toggleable\"><input class=\"sk-toggleable__control sk-hidden--visually\" id=\"1c7df86d-3e70-4621-82da-af471cdc7589\" type=\"checkbox\" ><label for=\"1c7df86d-3e70-4621-82da-af471cdc7589\" class=\"sk-toggleable__label sk-toggleable__label-arrow\">KNeighborsClassifier</label><div class=\"sk-toggleable__content\"><pre>KNeighborsClassifier(n_neighbors=2)</pre></div></div></div></div></div></div></div>"
            ]
          },
          "metadata": {},
          "execution_count": 42
        }
      ]
    },
    {
      "cell_type": "code",
      "source": [
        "# evaluate\n",
        "eval_classification (knn_pca_pipe, X_train, X_test, y_train, y_test)"
      ],
      "metadata": {
        "colab": {
          "base_uri": "https://localhost:8080/"
        },
        "id": "GvNJkHnJ3xEn",
        "outputId": "cfd83600-6e70-4acd-8ab2-0f85622a9da1"
      },
      "execution_count": 43,
      "outputs": [
        {
          "output_type": "stream",
          "name": "stdout",
          "text": [
            "Train Report:               precision    recall  f1-score   support\n",
            "\n",
            "           0       0.96      1.00      0.98      3535\n",
            "           1       1.00      0.08      0.14       146\n",
            "\n",
            "    accuracy                           0.96      3681\n",
            "   macro avg       0.98      0.54      0.56      3681\n",
            "weighted avg       0.96      0.96      0.95      3681\n",
            "\n",
            "Test Report:               precision    recall  f1-score   support\n",
            "\n",
            "           0       0.95      1.00      0.97      1165\n",
            "           1       0.33      0.02      0.03        63\n",
            "\n",
            "    accuracy                           0.95      1228\n",
            "   macro avg       0.64      0.51      0.50      1228\n",
            "weighted avg       0.92      0.95      0.92      1228\n",
            "\n"
          ]
        }
      ]
    },
    {
      "cell_type": "code",
      "source": [
        "# Make an instance of the model with default parameters\n",
        "logreg = LogisticRegression()"
      ],
      "metadata": {
        "id": "Y7huFxM57AB_"
      },
      "execution_count": 44,
      "outputs": []
    },
    {
      "cell_type": "code",
      "source": [
        "logreg_pca_pipe = make_pipeline(scaler, pca, logreg)"
      ],
      "metadata": {
        "id": "lnQ3S9cR8JBI"
      },
      "execution_count": 45,
      "outputs": []
    },
    {
      "cell_type": "code",
      "source": [
        "#fit the model\n",
        "logreg_pca_pipe.fit(X_train, y_train)\n",
        "print(logreg_pca_pipe.score(X_train, y_train))\n",
        "print(logreg_pca_pipe.score(X_test, y_test))"
      ],
      "metadata": {
        "colab": {
          "base_uri": "https://localhost:8080/"
        },
        "id": "j6FCKCGj8EGj",
        "outputId": "3ba0f4db-f6b2-4e36-fdbd-d1d83d56ce3e"
      },
      "execution_count": 46,
      "outputs": [
        {
          "output_type": "stream",
          "name": "stdout",
          "text": [
            "0.9603368649823417\n",
            "0.9486970684039088\n"
          ]
        }
      ]
    },
    {
      "cell_type": "code",
      "source": [
        "# Predict\n",
        "logreg_pca_pred = logreg_pca_pipe.predict(X_test)\n",
        "logreg_pca_pred"
      ],
      "metadata": {
        "colab": {
          "base_uri": "https://localhost:8080/"
        },
        "id": "0DIJAgOX--ae",
        "outputId": "b72d93e6-949d-4ccb-876c-1948b5222aa7"
      },
      "execution_count": 47,
      "outputs": [
        {
          "output_type": "execute_result",
          "data": {
            "text/plain": [
              "array([0, 0, 0, ..., 0, 0, 0])"
            ]
          },
          "metadata": {},
          "execution_count": 47
        }
      ]
    },
    {
      "cell_type": "markdown",
      "source": [
        "Evaluate and compare"
      ],
      "metadata": {
        "id": "4dw9-zZq9RC4"
      }
    },
    {
      "cell_type": "code",
      "source": [
        "%%time\n",
        "# evaluate\n",
        "eval_classification (logreg_pca_pipe, X_train, X_test, y_train, y_test)"
      ],
      "metadata": {
        "colab": {
          "base_uri": "https://localhost:8080/"
        },
        "id": "oy0u-y1N9Qk4",
        "outputId": "846ab383-d0d0-4d90-fc14-3a1b847bb056"
      },
      "execution_count": 48,
      "outputs": [
        {
          "output_type": "stream",
          "name": "stdout",
          "text": [
            "Train Report:               precision    recall  f1-score   support\n",
            "\n",
            "           0       0.96      1.00      0.98      3535\n",
            "           1       0.00      0.00      0.00       146\n",
            "\n",
            "    accuracy                           0.96      3681\n",
            "   macro avg       0.48      0.50      0.49      3681\n",
            "weighted avg       0.92      0.96      0.94      3681\n",
            "\n",
            "Test Report:               precision    recall  f1-score   support\n",
            "\n",
            "           0       0.95      1.00      0.97      1165\n",
            "           1       0.00      0.00      0.00        63\n",
            "\n",
            "    accuracy                           0.95      1228\n",
            "   macro avg       0.47      0.50      0.49      1228\n",
            "weighted avg       0.90      0.95      0.92      1228\n",
            "\n",
            "CPU times: user 38.6 ms, sys: 27.2 ms, total: 65.8 ms\n",
            "Wall time: 49.1 ms\n"
          ]
        },
        {
          "output_type": "stream",
          "name": "stderr",
          "text": [
            "/usr/local/lib/python3.7/dist-packages/sklearn/metrics/_classification.py:1318: UndefinedMetricWarning: Precision and F-score are ill-defined and being set to 0.0 in labels with no predicted samples. Use `zero_division` parameter to control this behavior.\n",
            "  _warn_prf(average, modifier, msg_start, len(result))\n",
            "/usr/local/lib/python3.7/dist-packages/sklearn/metrics/_classification.py:1318: UndefinedMetricWarning: Precision and F-score are ill-defined and being set to 0.0 in labels with no predicted samples. Use `zero_division` parameter to control this behavior.\n",
            "  _warn_prf(average, modifier, msg_start, len(result))\n",
            "/usr/local/lib/python3.7/dist-packages/sklearn/metrics/_classification.py:1318: UndefinedMetricWarning: Precision and F-score are ill-defined and being set to 0.0 in labels with no predicted samples. Use `zero_division` parameter to control this behavior.\n",
            "  _warn_prf(average, modifier, msg_start, len(result))\n",
            "/usr/local/lib/python3.7/dist-packages/sklearn/metrics/_classification.py:1318: UndefinedMetricWarning: Precision and F-score are ill-defined and being set to 0.0 in labels with no predicted samples. Use `zero_division` parameter to control this behavior.\n",
            "  _warn_prf(average, modifier, msg_start, len(result))\n",
            "/usr/local/lib/python3.7/dist-packages/sklearn/metrics/_classification.py:1318: UndefinedMetricWarning: Precision and F-score are ill-defined and being set to 0.0 in labels with no predicted samples. Use `zero_division` parameter to control this behavior.\n",
            "  _warn_prf(average, modifier, msg_start, len(result))\n",
            "/usr/local/lib/python3.7/dist-packages/sklearn/metrics/_classification.py:1318: UndefinedMetricWarning: Precision and F-score are ill-defined and being set to 0.0 in labels with no predicted samples. Use `zero_division` parameter to control this behavior.\n",
            "  _warn_prf(average, modifier, msg_start, len(result))\n"
          ]
        }
      ]
    },
    {
      "cell_type": "markdown",
      "source": [
        "for Production, the model that I will select will be the knn because it's gives us a better accuracy score."
      ],
      "metadata": {
        "id": "Ksu7BpiDnKSf"
      }
    },
    {
      "cell_type": "code",
      "source": [],
      "metadata": {
        "id": "mOXWQGrIsvvQ"
      },
      "execution_count": null,
      "outputs": []
    }
  ]
}